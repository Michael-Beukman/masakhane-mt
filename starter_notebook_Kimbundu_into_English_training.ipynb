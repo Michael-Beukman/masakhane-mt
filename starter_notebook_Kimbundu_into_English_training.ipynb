{
  "nbformat": 4,
  "nbformat_minor": 0,
  "metadata": {
    "accelerator": "GPU",
    "colab": {
      "name": "starter_notebook_reverse_training.ipynb",
      "provenance": [],
      "collapsed_sections": [],
      "include_colab_link": true
    },
    "kernelspec": {
      "display_name": "Python 3",
      "language": "python",
      "name": "python3"
    },
    "language_info": {
      "codemirror_mode": {
        "name": "ipython",
        "version": 3
      },
      "file_extension": ".py",
      "mimetype": "text/x-python",
      "name": "python",
      "nbconvert_exporter": "python",
      "pygments_lexer": "ipython3",
      "version": "3.7.3"
    }
  },
  "cells": [
    {
      "cell_type": "markdown",
      "metadata": {
        "id": "view-in-github",
        "colab_type": "text"
      },
      "source": [
        "<a href=\"https://colab.research.google.com/github/TripleBlackCat/masakhane-mt/blob/master/starter_notebook_Kimbundu_into_English_training.ipynb\" target=\"_parent\"><img src=\"https://colab.research.google.com/assets/colab-badge.svg\" alt=\"Open In Colab\"/></a>"
      ]
    },
    {
      "cell_type": "markdown",
      "metadata": {
        "id": "Igc5itf-xMGj"
      },
      "source": [
        "# Masakhane - Reverse Machine Translation for African Languages (Using JoeyNMT)"
      ]
    },
    {
      "cell_type": "markdown",
      "metadata": {
        "id": "_vBfeVUQLlzA"
      },
      "source": [
        "> ## NB\n",
        ">### - The purpose of this Notebook is to build models that translate African languages(target language) *into* English(source language). This will allow us to in future be able to make translations from one African language to the other. If you'd like to translate *from* English, please use [this](https://github.com/masakhane-io/masakhane-mt/blob/master/starter_notebook.ipynb) starter notebook instead.\n",
        "\n",
        ">### - We call this reverse training because normally we build models that make translations from the source language(English) to the target language. But in this case we are doing the reverse; building models that make translations from the target language to the source(English)"
      ]
    },
    {
      "cell_type": "markdown",
      "metadata": {
        "id": "x4fXCKCf36IK"
      },
      "source": [
        "## Note before beginning:\n",
        "### - The idea is that you should be able to make minimal changes to this in order to get SOME result for your own translation corpus. \n",
        "\n",
        "### - The tl;dr: Go to the **\"TODO\"** comments which will tell you what to update to get up and running\n",
        "\n",
        "### - If you actually want to have a clue what you're doing, read the text and peek at the links\n",
        "\n",
        "### - With 100 epochs, it should take around 7 hours to run in Google Colab\n",
        "\n",
        "### - Once you've gotten a result for your language, please attach and email your notebook that generated it to masakhanetranslation@gmail.com\n",
        "\n",
        "### - If you care enough and get a chance, doing a brief background on your language would be amazing. See examples in  [(Martinus, 2019)](https://arxiv.org/abs/1906.05685)"
      ]
    },
    {
      "cell_type": "markdown",
      "metadata": {
        "id": "l929HimrxS0a"
      },
      "source": [
        "## Retrieve your data & make a parallel corpus\n",
        "\n",
        "If you are wanting to use the JW300 data referenced on the Masakhane website or in our GitHub repo, you can use `opus-tools` to convert the data into a convenient format. `opus_read` from that package provides a convenient tool for reading the native aligned XML files and to convert them to TMX format. The tool can also be used to fetch relevant files from OPUS on the fly and to filter the data as necessary. [Read the documentation](https://pypi.org/project/opustools-pkg/) for more details.\n",
        "\n",
        "Once you have your corpus files in TMX format (an xml structure which will include the sentences in your target language and your source language in a single file), we recommend reading them into a pandas dataframe. Thankfully, Jade wrote a silly `tmx2dataframe` package which converts your tmx file to a pandas dataframe. "
      ]
    },
    {
      "cell_type": "code",
      "metadata": {
        "colab": {
          "base_uri": "https://localhost:8080/"
        },
        "id": "oGRmDELn7Az0",
        "outputId": "b323f5f5-dd1a-4b1c-9032-aa5e5952a76e"
      },
      "source": [
        "from google.colab import drive\n",
        "drive.mount('/content/drive')"
      ],
      "execution_count": 2,
      "outputs": [
        {
          "output_type": "stream",
          "name": "stdout",
          "text": [
            "Mounted at /content/drive\n"
          ]
        }
      ]
    },
    {
      "cell_type": "code",
      "metadata": {
        "id": "Cn3tgQLzUxwn"
      },
      "source": [
        "# TODO: Set your source and target languages. Keep in mind, these traditionally use language codes as found here:\n",
        "# These will also become the suffix's of all vocab and corpus files used throughout\n",
        "import os\n",
        "source_language = \"en\"\n",
        "target_language = \"kmb\" # Set target language to Kimbundu\n",
        "lc = False  # If True, lowercase the data.\n",
        "seed = 42  # Random seed for shuffling.\n",
        "tag = \"baseline\" # Give a unique name to your folder - this is to ensure you don't rewrite any models you've already submitted\n",
        "\n",
        "os.environ[\"src\"] = source_language # Sets them in bash as well, since we often use bash scripts\n",
        "os.environ[\"tgt\"] = target_language\n",
        "os.environ[\"tag\"] = tag\n",
        "\n",
        "# This will save it to a folder in our gdrive instead!\n",
        "!mkdir -p \"/content/drive/My Drive/masakhane/$tgt-$src-$tag\"\n",
        "os.environ[\"gdrive_path\"] = \"/content/drive/My Drive/masakhane/%s-%s-%s\" % (target_language, source_language, tag)"
      ],
      "execution_count": 3,
      "outputs": []
    },
    {
      "cell_type": "code",
      "metadata": {
        "colab": {
          "base_uri": "https://localhost:8080/"
        },
        "id": "kBSgJHEw7Nvx",
        "outputId": "3451ac6d-30e5-4632-c080-de0238f4f2a4"
      },
      "source": [
        "!echo $gdrive_path"
      ],
      "execution_count": 4,
      "outputs": [
        {
          "output_type": "stream",
          "name": "stdout",
          "text": [
            "/content/drive/My Drive/masakhane/kmb-en-baseline\n"
          ]
        }
      ]
    },
    {
      "cell_type": "code",
      "metadata": {
        "colab": {
          "base_uri": "https://localhost:8080/"
        },
        "id": "gA75Fs9ys8Y9",
        "outputId": "a91833a6-9a39-40c0-ec43-f1fbcfd02efa"
      },
      "source": [
        "# Install opus-tools\n",
        "! pip install opustools-pkg"
      ],
      "execution_count": 5,
      "outputs": [
        {
          "output_type": "stream",
          "name": "stdout",
          "text": [
            "Collecting opustools-pkg\n",
            "  Downloading opustools_pkg-0.0.52-py3-none-any.whl (80 kB)\n",
            "\u001b[?25l\r\u001b[K     |████                            | 10 kB 24.1 MB/s eta 0:00:01\r\u001b[K     |████████                        | 20 kB 26.0 MB/s eta 0:00:01\r\u001b[K     |████████████▏                   | 30 kB 12.0 MB/s eta 0:00:01\r\u001b[K     |████████████████▏               | 40 kB 9.5 MB/s eta 0:00:01\r\u001b[K     |████████████████████▎           | 51 kB 5.2 MB/s eta 0:00:01\r\u001b[K     |████████████████████████▎       | 61 kB 5.6 MB/s eta 0:00:01\r\u001b[K     |████████████████████████████▎   | 71 kB 6.0 MB/s eta 0:00:01\r\u001b[K     |████████████████████████████████| 80 kB 4.1 MB/s \n",
            "\u001b[?25hInstalling collected packages: opustools-pkg\n",
            "Successfully installed opustools-pkg-0.0.52\n"
          ]
        }
      ]
    },
    {
      "cell_type": "code",
      "metadata": {
        "colab": {
          "base_uri": "https://localhost:8080/"
        },
        "id": "xq-tDZVks7ZD",
        "outputId": "0b9762bc-b261-410a-aa23-10d39926941f"
      },
      "source": [
        "# Downloading our corpus\n",
        "! opus_read -d JW300 -s $src -t $tgt -wm moses -w jw300.$src jw300.$tgt -q\n",
        "\n",
        "# extract the corpus file\n",
        "! gunzip JW300_latest_xml_$src-$tgt.xml.gz"
      ],
      "execution_count": 6,
      "outputs": [
        {
          "output_type": "stream",
          "name": "stdout",
          "text": [
            "\n",
            "Alignment file /proj/nlpl/data/OPUS/JW300/latest/xml/en-kmb.xml.gz not found. The following files are available for downloading:\n",
            "\n",
            "   1 MB https://object.pouta.csc.fi/OPUS-JW300/v1c/xml/en-kmb.xml.gz\n",
            " 274 MB https://object.pouta.csc.fi/OPUS-JW300/v1c/xml/en.zip\n",
            "  11 MB https://object.pouta.csc.fi/OPUS-JW300/v1c/xml/kmb.zip\n",
            "\n",
            " 286 MB Total size\n",
            "./JW300_latest_xml_en-kmb.xml.gz ... 100% of 1 MB\n",
            "./JW300_latest_xml_en.zip ... 100% of 274 MB\n",
            "./JW300_latest_xml_kmb.zip ... 100% of 11 MB\n"
          ]
        }
      ]
    },
    {
      "cell_type": "code",
      "metadata": {
        "colab": {
          "base_uri": "https://localhost:8080/"
        },
        "id": "n48GDRnP8y2G",
        "outputId": "e711d5f0-6676-4abe-fc4f-a8e660cc8353"
      },
      "source": [
        "# Download the global test set.\n",
        "! wget https://raw.githubusercontent.com/juliakreutzer/masakhane/master/jw300_utils/test/test.en-any.en\n",
        "  \n",
        "# And the specific test set for this language pair.\n",
        "os.environ[\"trg\"] = target_language \n",
        "os.environ[\"src\"] = source_language \n",
        "\n",
        "! wget https://raw.githubusercontent.com/juliakreutzer/masakhane/master/jw300_utils/test/test.en-$trg.en \n",
        "! mv test.en-$trg.en test.en\n",
        "! wget https://raw.githubusercontent.com/juliakreutzer/masakhane/master/jw300_utils/test/test.en-$trg.$trg \n",
        "! mv test.en-$trg.$trg test.$trg"
      ],
      "execution_count": 7,
      "outputs": [
        {
          "output_type": "stream",
          "name": "stdout",
          "text": [
            "--2021-10-08 18:38:52--  https://raw.githubusercontent.com/juliakreutzer/masakhane/master/jw300_utils/test/test.en-any.en\n",
            "Resolving raw.githubusercontent.com (raw.githubusercontent.com)... 185.199.108.133, 185.199.109.133, 185.199.110.133, ...\n",
            "Connecting to raw.githubusercontent.com (raw.githubusercontent.com)|185.199.108.133|:443... connected.\n",
            "HTTP request sent, awaiting response... 200 OK\n",
            "Length: 277791 (271K) [text/plain]\n",
            "Saving to: ‘test.en-any.en’\n",
            "\n",
            "test.en-any.en      100%[===================>] 271.28K  --.-KB/s    in 0.03s   \n",
            "\n",
            "2021-10-08 18:38:52 (8.84 MB/s) - ‘test.en-any.en’ saved [277791/277791]\n",
            "\n",
            "--2021-10-08 18:38:52--  https://raw.githubusercontent.com/juliakreutzer/masakhane/master/jw300_utils/test/test.en-kmb.en\n",
            "Resolving raw.githubusercontent.com (raw.githubusercontent.com)... 185.199.108.133, 185.199.109.133, 185.199.110.133, ...\n",
            "Connecting to raw.githubusercontent.com (raw.githubusercontent.com)|185.199.108.133|:443... connected.\n",
            "HTTP request sent, awaiting response... 200 OK\n",
            "Length: 204945 (200K) [text/plain]\n",
            "Saving to: ‘test.en-kmb.en’\n",
            "\n",
            "test.en-kmb.en      100%[===================>] 200.14K  --.-KB/s    in 0.03s   \n",
            "\n",
            "2021-10-08 18:38:52 (7.66 MB/s) - ‘test.en-kmb.en’ saved [204945/204945]\n",
            "\n",
            "--2021-10-08 18:38:53--  https://raw.githubusercontent.com/juliakreutzer/masakhane/master/jw300_utils/test/test.en-kmb.kmb\n",
            "Resolving raw.githubusercontent.com (raw.githubusercontent.com)... 185.199.108.133, 185.199.109.133, 185.199.110.133, ...\n",
            "Connecting to raw.githubusercontent.com (raw.githubusercontent.com)|185.199.108.133|:443... connected.\n",
            "HTTP request sent, awaiting response... 200 OK\n",
            "Length: 230668 (225K) [text/plain]\n",
            "Saving to: ‘test.en-kmb.kmb’\n",
            "\n",
            "test.en-kmb.kmb     100%[===================>] 225.26K  --.-KB/s    in 0.02s   \n",
            "\n",
            "2021-10-08 18:38:53 (8.82 MB/s) - ‘test.en-kmb.kmb’ saved [230668/230668]\n",
            "\n"
          ]
        }
      ]
    },
    {
      "cell_type": "code",
      "metadata": {
        "colab": {
          "base_uri": "https://localhost:8080/"
        },
        "id": "NqDG-CI28y2L",
        "outputId": "87a18bf9-ec42-492c-d639-660829316927"
      },
      "source": [
        "# Read the test data to filter from train and dev splits.\n",
        "# Store english portion in set for quick filtering checks.\n",
        "en_test_sents = set()\n",
        "filter_test_sents = \"test.en-any.en\"\n",
        "j = 0\n",
        "with open(filter_test_sents) as f:\n",
        "  for line in f:\n",
        "    en_test_sents.add(line.strip())\n",
        "    j += 1\n",
        "print('Loaded {} global test sentences to filter from the training/dev data.'.format(j))"
      ],
      "execution_count": 8,
      "outputs": [
        {
          "output_type": "stream",
          "name": "stdout",
          "text": [
            "Loaded 3571 global test sentences to filter from the training/dev data.\n"
          ]
        }
      ]
    },
    {
      "cell_type": "code",
      "metadata": {
        "colab": {
          "base_uri": "https://localhost:8080/",
          "height": 161
        },
        "id": "3CNdwLBCfSIl",
        "outputId": "3fca1241-9535-4365-8c71-806582159f10"
      },
      "source": [
        "import pandas as pd\n",
        "\n",
        "# TMX file to dataframe\n",
        "source_file = 'jw300.' + source_language\n",
        "target_file = 'jw300.' + target_language\n",
        "\n",
        "source = []\n",
        "target = []\n",
        "skip_lines = []  # Collect the line numbers of the source portion to skip the same lines for the target portion.\n",
        "with open(source_file) as f:\n",
        "    for i, line in enumerate(f):\n",
        "        # Skip sentences that are contained in the test set.\n",
        "        if line.strip() not in en_test_sents:\n",
        "            source.append(line.strip())\n",
        "        else:\n",
        "            skip_lines.append(i)             \n",
        "with open(target_file) as f:\n",
        "    for j, line in enumerate(f):\n",
        "        # Only add to corpus if corresponding source was not skipped.\n",
        "        if j not in skip_lines:\n",
        "            target.append(line.strip())\n",
        "    \n",
        "print('Loaded data and skipped {}/{} lines since contained in test set.'.format(len(skip_lines), i))\n",
        "    \n",
        "df = pd.DataFrame(zip(source, target), columns=['source_sentence', 'target_sentence'])\n",
        "# if you get TypeError: data argument can't be an iterator is because of your zip version run this below\n",
        "#df = pd.DataFrame(list(zip(source, target)), columns=['source_sentence', 'target_sentence'])\n",
        "df.head(3)"
      ],
      "execution_count": 9,
      "outputs": [
        {
          "output_type": "stream",
          "name": "stdout",
          "text": [
            "Loaded data and skipped 3413/104046 lines since contained in test set.\n"
          ]
        },
        {
          "output_type": "execute_result",
          "data": {
            "text/html": [
              "<div>\n",
              "<style scoped>\n",
              "    .dataframe tbody tr th:only-of-type {\n",
              "        vertical-align: middle;\n",
              "    }\n",
              "\n",
              "    .dataframe tbody tr th {\n",
              "        vertical-align: top;\n",
              "    }\n",
              "\n",
              "    .dataframe thead th {\n",
              "        text-align: right;\n",
              "    }\n",
              "</style>\n",
              "<table border=\"1\" class=\"dataframe\">\n",
              "  <thead>\n",
              "    <tr style=\"text-align: right;\">\n",
              "      <th></th>\n",
              "      <th>source_sentence</th>\n",
              "      <th>target_sentence</th>\n",
              "    </tr>\n",
              "  </thead>\n",
              "  <tbody>\n",
              "    <tr>\n",
              "      <th>0</th>\n",
              "      <td>December 1 , 2010</td>\n",
              "      <td>1 Ua Katatu Ua 2011</td>\n",
              "    </tr>\n",
              "    <tr>\n",
              "      <th>1</th>\n",
              "      <td>Who Inhabit the Spirit Realm ?</td>\n",
              "      <td>O Kuiala ku Diulu Kuene Muene Athu mu Nzumbi</td>\n",
              "    </tr>\n",
              "    <tr>\n",
              "      <th>2</th>\n",
              "      <td>FROM OUR COVER</td>\n",
              "      <td>TU SANGA - MU UÉ MILONGI ÍII</td>\n",
              "    </tr>\n",
              "  </tbody>\n",
              "</table>\n",
              "</div>"
            ],
            "text/plain": [
              "                  source_sentence                               target_sentence\n",
              "0               December 1 , 2010                           1 Ua Katatu Ua 2011\n",
              "1  Who Inhabit the Spirit Realm ?  O Kuiala ku Diulu Kuene Muene Athu mu Nzumbi\n",
              "2                  FROM OUR COVER                  TU SANGA - MU UÉ MILONGI ÍII"
            ]
          },
          "metadata": {},
          "execution_count": 9
        }
      ]
    },
    {
      "cell_type": "markdown",
      "metadata": {
        "id": "YkuK3B4p2AkN"
      },
      "source": [
        "## Pre-processing and export\n",
        "\n",
        "It is generally a good idea to remove duplicate translations and conflicting translations from the corpus. In practice, these public corpora include some number of these that need to be cleaned.\n",
        "\n",
        "In addition we will split our data into dev/test/train and export to the filesystem."
      ]
    },
    {
      "cell_type": "code",
      "metadata": {
        "colab": {
          "base_uri": "https://localhost:8080/"
        },
        "id": "M_2ouEOH1_1q",
        "outputId": "5e96d345-e0b9-4d7d-d578-fa258e3d92dc"
      },
      "source": [
        "# drop duplicate translations\n",
        "df_pp = df.drop_duplicates()\n",
        "\n",
        "# drop conflicting translations\n",
        "# (this is optional and something that you might want to comment out \n",
        "# depending on the size of your corpus)\n",
        "df_pp.drop_duplicates(subset='source_sentence', inplace=True)\n",
        "df_pp.drop_duplicates(subset='target_sentence', inplace=True)\n",
        "\n",
        "# Shuffle the data to remove bias in dev set selection.\n",
        "df_pp = df_pp.sample(frac=1, random_state=seed).reset_index(drop=True)"
      ],
      "execution_count": 10,
      "outputs": [
        {
          "output_type": "stream",
          "name": "stderr",
          "text": [
            "/usr/local/lib/python3.7/dist-packages/ipykernel_launcher.py:7: SettingWithCopyWarning: \n",
            "A value is trying to be set on a copy of a slice from a DataFrame\n",
            "\n",
            "See the caveats in the documentation: https://pandas.pydata.org/pandas-docs/stable/user_guide/indexing.html#returning-a-view-versus-a-copy\n",
            "  import sys\n",
            "/usr/local/lib/python3.7/dist-packages/ipykernel_launcher.py:8: SettingWithCopyWarning: \n",
            "A value is trying to be set on a copy of a slice from a DataFrame\n",
            "\n",
            "See the caveats in the documentation: https://pandas.pydata.org/pandas-docs/stable/user_guide/indexing.html#returning-a-view-versus-a-copy\n",
            "  \n"
          ]
        }
      ]
    },
    {
      "cell_type": "code",
      "metadata": {
        "colab": {
          "base_uri": "https://localhost:8080/"
        },
        "id": "Z_1BwAApEtMk",
        "outputId": "78144662-e75d-4b7e-e569-fa078ecf9983"
      },
      "source": [
        "# Install fuzzy wuzzy to remove \"almost duplicate\" sentences in the\n",
        "# test and training sets.\n",
        "! pip install fuzzywuzzy\n",
        "! pip install python-Levenshtein\n",
        "import time\n",
        "from fuzzywuzzy import process\n",
        "import numpy as np\n",
        "from os import cpu_count\n",
        "from functools import partial\n",
        "from multiprocessing import Pool\n",
        "\n",
        "\n",
        "# reset the index of the training set after previous filtering\n",
        "df_pp.reset_index(drop=False, inplace=True)\n",
        "\n",
        "# Remove samples from the training data set if they \"almost overlap\" with the\n",
        "# samples in the test set.\n",
        "\n",
        "# Filtering function. Adjust pad to narrow down the candidate matches to\n",
        "# within a certain length of characters of the given sample.\n",
        "def fuzzfilter(sample, candidates, pad):\n",
        "  candidates = [x for x in candidates if len(x) <= len(sample)+pad and len(x) >= len(sample)-pad] \n",
        "  if len(candidates) > 0:\n",
        "    return process.extractOne(sample, candidates)[1]\n",
        "  else:\n",
        "    return np.nan"
      ],
      "execution_count": 11,
      "outputs": [
        {
          "output_type": "stream",
          "name": "stdout",
          "text": [
            "Collecting fuzzywuzzy\n",
            "  Downloading fuzzywuzzy-0.18.0-py2.py3-none-any.whl (18 kB)\n",
            "Installing collected packages: fuzzywuzzy\n",
            "Successfully installed fuzzywuzzy-0.18.0\n",
            "Collecting python-Levenshtein\n",
            "  Downloading python-Levenshtein-0.12.2.tar.gz (50 kB)\n",
            "\u001b[K     |████████████████████████████████| 50 kB 3.1 MB/s \n",
            "\u001b[?25hRequirement already satisfied: setuptools in /usr/local/lib/python3.7/dist-packages (from python-Levenshtein) (57.4.0)\n",
            "Building wheels for collected packages: python-Levenshtein\n",
            "  Building wheel for python-Levenshtein (setup.py) ... \u001b[?25l\u001b[?25hdone\n",
            "  Created wheel for python-Levenshtein: filename=python_Levenshtein-0.12.2-cp37-cp37m-linux_x86_64.whl size=149863 sha256=868b333fa121fffe2f41a62b6dfa085c6e929780931bd93051f896f3eebe694e\n",
            "  Stored in directory: /root/.cache/pip/wheels/05/5f/ca/7c4367734892581bb5ff896f15027a932c551080b2abd3e00d\n",
            "Successfully built python-Levenshtein\n",
            "Installing collected packages: python-Levenshtein\n",
            "Successfully installed python-Levenshtein-0.12.2\n"
          ]
        }
      ]
    },
    {
      "cell_type": "code",
      "metadata": {
        "id": "92EsgTaY3B4H"
      },
      "source": [
        "# start_time = time.time()\n",
        "# ### iterating over pandas dataframe rows is not recomended, let use multi processing to apply the function\n",
        "\n",
        "# with Pool(cpu_count()-1) as pool:\n",
        "#     scores = pool.map(partial(fuzzfilter, candidates=list(en_test_sents), pad=5), df_pp['source_sentence'])\n",
        "# hours, rem = divmod(time.time() - start_time, 3600)\n",
        "# minutes, seconds = divmod(rem, 60)\n",
        "# print(\"done in {}h:{}min:{}seconds\".format(hours, minutes, seconds))\n",
        "\n",
        "# # Filter out \"almost overlapping samples\"\n",
        "# df_pp = df_pp.assign(scores=scores)\n",
        "# df_pp = df_pp[df_pp['scores'] < 95]"
      ],
      "execution_count": 12,
      "outputs": []
    },
    {
      "cell_type": "code",
      "metadata": {
        "colab": {
          "base_uri": "https://localhost:8080/"
        },
        "id": "hxxBOCA-xXhy",
        "outputId": "e7d257f7-2f09-4c58-b51d-6af05de90345"
      },
      "source": [
        "# This section does the split between train/dev for the parallel corpora then saves them as separate files\n",
        "# We use 1000 dev test and the given test set.\n",
        "import csv\n",
        "\n",
        "# Do the split between dev/train and create parallel corpora\n",
        "num_dev_patterns = 1000\n",
        "\n",
        "# Optional: lower case the corpora - this will make it easier to generalize, but without proper casing.\n",
        "if lc:  # Julia: making lowercasing optional\n",
        "    df_pp[\"source_sentence\"] = df_pp[\"source_sentence\"].str.lower()\n",
        "    df_pp[\"target_sentence\"] = df_pp[\"target_sentence\"].str.lower()\n",
        "\n",
        "# Julia: test sets are already generated\n",
        "dev = df_pp.tail(num_dev_patterns) # Herman: Error in original\n",
        "stripped = df_pp.drop(df_pp.tail(num_dev_patterns).index)\n",
        "\n",
        "with open(\"train.\"+source_language, \"w\") as src_file, open(\"train.\"+target_language, \"w\") as trg_file:\n",
        "  for index, row in stripped.iterrows():\n",
        "    src_file.write(row[\"source_sentence\"]+\"\\n\")\n",
        "    trg_file.write(row[\"target_sentence\"]+\"\\n\")\n",
        "    \n",
        "with open(\"dev.\"+source_language, \"w\") as src_file, open(\"dev.\"+target_language, \"w\") as trg_file:\n",
        "  for index, row in dev.iterrows():\n",
        "    src_file.write(row[\"source_sentence\"]+\"\\n\")\n",
        "    trg_file.write(row[\"target_sentence\"]+\"\\n\")\n",
        "\n",
        "#stripped[[\"source_sentence\"]].to_csv(\"train.\"+source_language, header=False, index=False)  # Herman: Added `header=False` everywhere\n",
        "#stripped[[\"target_sentence\"]].to_csv(\"train.\"+target_language, header=False, index=False)  # Julia: Problematic handling of quotation marks.\n",
        "\n",
        "#dev[[\"source_sentence\"]].to_csv(\"dev.\"+source_language, header=False, index=False)\n",
        "#dev[[\"target_sentence\"]].to_csv(\"dev.\"+target_language, header=False, index=False)\n",
        "\n",
        "# Doublecheck the format below. There should be no extra quotation marks or weird characters.\n",
        "! head train.*\n",
        "! head dev.*"
      ],
      "execution_count": 13,
      "outputs": [
        {
          "output_type": "stream",
          "name": "stdout",
          "text": [
            "==> train.en <==\n",
            "7 Like David , Jehovah ’ s people today try to be humble .\n",
            "We want to stay up-to-date with the understanding of Bible truth so that we can share accurate knowledge with others .\n",
            "This creates a bond of unity impossible to break .\n",
            "It describes Mary ’ s visit from the angel Gabriel , her visit to her relative Elizabeth , and her words of praise to Jehovah .\n",
            "( 1 Cor . 5 : 7 ; 11 : 23 ; Matt . 26 : 2 ) As the end of that Jewish day approached , Jesus was buried — before the start of Nisan 15 . * — Lev . 23 : 5-7 ; Luke 23 : 54 .\n",
            "What , then , is the source of injustice ?\n",
            "It does not become provoked . It does not keep account of the injury .\n",
            "18 The first century was a unique time in history .\n",
            "Jehovah was not going to save the things that people owned .\n",
            "I did not know what he meant and did not recognize him .\n",
            "\n",
            "==> train.kmb <==\n",
            "7 Kala Davidi o mundu ua Jihova lelu , u sota ue kulondekesa o kulenduka .\n",
            "Tua tokala ku mona se ki tua mu longa o milongi ia Bibidia iokulu , phala tu tene ku longa akuetu o kidi kia Bibidia .\n",
            "Kiki kia a bhangesa ku kala ni ukamba uambote ka tena ku u batula .\n",
            "Luka u jimbulula kioso o anju Ngabidiiele kia zuela ni Madiia , kioso Madiia kiai mu kunda ndandu iê Nzebele , ni kioso Madiia kia ximana Jihova mu musambu .\n",
            "( 1 Kol . 5 : 7 ; 11 : 23 ; Mat . 26 : 2 ) Jezú a mu fundu ande dia ku mateka o kizuua kia 15 kia mbeji ia Nizá . * — Iji . 23 : 5 - 7 ; Luka 23 : 54 .\n",
            "Kienhiki , nanhi uala ni kikuma ku ima ioso ia iibha iene ku mundu ?\n",
            "O henda ki iene mu kala ni njinda , ki iene kufutuluka , ki iene kufika ima ia iibha .\n",
            "18 O izulukutu ia bhiti ku hama ia dianga , ia di tungula ku izulukutu ioso iene mu bhita .\n",
            "Jihova keji bhulula o ima ia kexile na - iu o athu , kana .\n",
            "Ki ngejidile se mukonda diahi ua kexile ku ngi bhinga muloloki , mukonda ki ngi muijidile dingi .\n",
            "==> dev.en <==\n",
            "Nora and I are very grateful to Jehovah for all his kind provisions , and we encourage others also to test Jehovah out. — Malachi 3 : 10 .\n",
            "This can be helpful , for example , when a brother needs to choose a song for a public talk .\n",
            "The Bible teaches that there are two types of religion — true religion and false religion .\n",
            "You destroyed so easily God ’ s image , man . ” — TERTULLIAN , ON THE APPAREL OF WOMEN , SECOND CENTURY C.E.\n",
            "( Luke 8 : 1 ) Like him , we need faith and courage in order to preach the Kingdom message .\n",
            "At the very start of human history , one of the angels , consumed by a desire to be worshipped , turned against Jehovah and made himself Satan , meaning “ Resister . ”\n",
            "The ark was to have three stories , or decks , a number of compartments , and a door in the side .\n",
            "10 How much better it would be to take a moment to analyze matters .\n",
            "Did God really make humans as they are now — imperfect and subject to suffering ?\n",
            "2 To get freedom , people organize protests and even revolutions .\n",
            "\n",
            "==> dev.kmb <==\n",
            "Muhatu’ami Nora ni eme , tu sakidila kiavulu Jihova mu ioso ia tu bhana , etu tuene mu suinisa ue akuetu phala ku lola Jihova . — Malakiia 3 : 10 .\n",
            "Kiki ki kuatekesa benge - benge o jiphange a sola mimbu phala o madiskursu .\n",
            "Kuene ngó maubhezelu a iiadi — o ubhezelu ua kidi ni ubhezelu ua makutu .\n",
            "Eie ua buika o kidifuanganu kia Nzambi , o diiala . ” — TERTULIANO , O TRAGE DAS MULHERES , KU HAMA IA KAIIADI , K . K .\n",
            "( Luk . 8 : 1 ) Kála muéne , etu tua bhingi kixikanu ni ku suína , phala ku boka o njimbu ia Utuminu .\n",
            "Kioso Nzambi kia bhange athu mu ixi , saí anju ua mesenene ué o ubhezelu , iu ua bhukumukina Jihova , iu ua di bhange Satanaji , kilombolola , “ Ku bhukumuka . ”\n",
            "O álaka ia tokalele ku kala ni matala atatu , maxilu ni dibhitu dimoxi ku mbandu .\n",
            "10 Kima kiambote ku sota kithangana phala ku xinganeka mu maka .\n",
            "O kuila Nzambi ua bhange muene o athu kála ki tuala lelu — akua ituxi a tala hadi ?\n",
            "2 Phala kusanga o ufôlo o athu a dyongeka mu ibuka , phala kubhanga jinvunda mu kubhinga dingi ufôlo .\n"
          ]
        }
      ]
    },
    {
      "cell_type": "markdown",
      "metadata": {
        "id": "epeCydmCyS8X"
      },
      "source": [
        "\n",
        "\n",
        "---\n",
        "\n",
        "\n",
        "## Installation of JoeyNMT\n",
        "\n",
        "JoeyNMT is a simple, minimalist NMT package which is useful for learning and teaching. Check out the documentation for JoeyNMT [here](https://joeynmt.readthedocs.io)  "
      ]
    },
    {
      "cell_type": "code",
      "metadata": {
        "colab": {
          "base_uri": "https://localhost:8080/"
        },
        "id": "iBRMm4kMxZ8L",
        "outputId": "52885b06-6b6a-400b-ecb1-9e80d5fc8a7a"
      },
      "source": [
        "# Install JoeyNMT\n",
        "! git clone https://github.com/joeynmt/joeynmt.git\n",
        "! cd joeynmt; pip3 install .\n",
        "# Install Pytorch with GPU support v1.7.1.\n",
        "# JoeyNMT installs pytorch, the below version was resulting in errors\n",
        "# ! pip install torch==1.8.0+cu101 -f https://download.pytorch.org/whl/torch_stable.html"
      ],
      "execution_count": 14,
      "outputs": [
        {
          "output_type": "stream",
          "name": "stdout",
          "text": [
            "Cloning into 'joeynmt'...\n",
            "remote: Enumerating objects: 3224, done.\u001b[K\n",
            "remote: Counting objects: 100% (273/273), done.\u001b[K\n",
            "remote: Compressing objects: 100% (139/139), done.\u001b[K\n",
            "remote: Total 3224 (delta 157), reused 206 (delta 134), pack-reused 2951\u001b[K\n",
            "Receiving objects: 100% (3224/3224), 8.17 MiB | 15.58 MiB/s, done.\n",
            "Resolving deltas: 100% (2185/2185), done.\n",
            "Processing /content/joeynmt\n",
            "\u001b[33m  DEPRECATION: A future pip version will change local packages to be built in-place without first copying to a temporary directory. We recommend you use --use-feature=in-tree-build to test your packages with this new behavior before it becomes the default.\n",
            "   pip 21.3 will remove support for this functionality. You can find discussion regarding this at https://github.com/pypa/pip/issues/7555.\u001b[0m\n",
            "Requirement already satisfied: future in /usr/local/lib/python3.7/dist-packages (from joeynmt==1.3) (0.16.0)\n",
            "Requirement already satisfied: pillow in /usr/local/lib/python3.7/dist-packages (from joeynmt==1.3) (7.1.2)\n",
            "Requirement already satisfied: numpy>=1.19.5 in /usr/local/lib/python3.7/dist-packages (from joeynmt==1.3) (1.19.5)\n",
            "Requirement already satisfied: setuptools>=41.0.0 in /usr/local/lib/python3.7/dist-packages (from joeynmt==1.3) (57.4.0)\n",
            "Requirement already satisfied: torch>=1.9.0 in /usr/local/lib/python3.7/dist-packages (from joeynmt==1.3) (1.9.0+cu111)\n",
            "Requirement already satisfied: tensorboard>=1.15 in /usr/local/lib/python3.7/dist-packages (from joeynmt==1.3) (2.6.0)\n",
            "Requirement already satisfied: torchtext>=0.10.0 in /usr/local/lib/python3.7/dist-packages (from joeynmt==1.3) (0.10.0)\n",
            "Collecting sacrebleu>=2.0.0\n",
            "  Downloading sacrebleu-2.0.0-py3-none-any.whl (90 kB)\n",
            "\u001b[K     |████████████████████████████████| 90 kB 4.1 MB/s \n",
            "\u001b[?25hCollecting subword-nmt\n",
            "  Downloading subword_nmt-0.3.7-py2.py3-none-any.whl (26 kB)\n",
            "Requirement already satisfied: matplotlib in /usr/local/lib/python3.7/dist-packages (from joeynmt==1.3) (3.2.2)\n",
            "Requirement already satisfied: seaborn in /usr/local/lib/python3.7/dist-packages (from joeynmt==1.3) (0.11.2)\n",
            "Collecting pyyaml>=5.1\n",
            "  Downloading PyYAML-5.4.1-cp37-cp37m-manylinux1_x86_64.whl (636 kB)\n",
            "\u001b[K     |████████████████████████████████| 636 kB 38.1 MB/s \n",
            "\u001b[?25hCollecting pylint>=2.9.6\n",
            "  Downloading pylint-2.11.1-py3-none-any.whl (392 kB)\n",
            "\u001b[K     |████████████████████████████████| 392 kB 45.5 MB/s \n",
            "\u001b[?25hCollecting six==1.12\n",
            "  Downloading six-1.12.0-py2.py3-none-any.whl (10 kB)\n",
            "Collecting wrapt==1.11.1\n",
            "  Downloading wrapt-1.11.1.tar.gz (27 kB)\n",
            "Collecting platformdirs>=2.2.0\n",
            "  Downloading platformdirs-2.4.0-py3-none-any.whl (14 kB)\n",
            "Collecting astroid<2.9,>=2.8.0\n",
            "  Downloading astroid-2.8.2-py3-none-any.whl (246 kB)\n",
            "\u001b[K     |████████████████████████████████| 246 kB 43.6 MB/s \n",
            "\u001b[?25hRequirement already satisfied: toml>=0.7.1 in /usr/local/lib/python3.7/dist-packages (from pylint>=2.9.6->joeynmt==1.3) (0.10.2)\n",
            "Collecting isort<6,>=4.2.5\n",
            "  Downloading isort-5.9.3-py3-none-any.whl (106 kB)\n",
            "\u001b[K     |████████████████████████████████| 106 kB 45.6 MB/s \n",
            "\u001b[?25hCollecting mccabe<0.7,>=0.6\n",
            "  Downloading mccabe-0.6.1-py2.py3-none-any.whl (8.6 kB)\n",
            "Collecting typing-extensions>=3.10.0\n",
            "  Downloading typing_extensions-3.10.0.2-py3-none-any.whl (26 kB)\n",
            "Collecting lazy-object-proxy>=1.4.0\n",
            "  Downloading lazy_object_proxy-1.6.0-cp37-cp37m-manylinux1_x86_64.whl (55 kB)\n",
            "\u001b[K     |████████████████████████████████| 55 kB 3.7 MB/s \n",
            "\u001b[?25hCollecting typed-ast<1.5,>=1.4.0\n",
            "  Downloading typed_ast-1.4.3-cp37-cp37m-manylinux1_x86_64.whl (743 kB)\n",
            "\u001b[K     |████████████████████████████████| 743 kB 20.0 MB/s \n",
            "\u001b[?25hRequirement already satisfied: regex in /usr/local/lib/python3.7/dist-packages (from sacrebleu>=2.0.0->joeynmt==1.3) (2019.12.20)\n",
            "Requirement already satisfied: tabulate>=0.8.9 in /usr/local/lib/python3.7/dist-packages (from sacrebleu>=2.0.0->joeynmt==1.3) (0.8.9)\n",
            "Collecting portalocker\n",
            "  Downloading portalocker-2.3.2-py2.py3-none-any.whl (15 kB)\n",
            "Collecting colorama\n",
            "  Downloading colorama-0.4.4-py2.py3-none-any.whl (16 kB)\n",
            "Requirement already satisfied: absl-py>=0.4 in /usr/local/lib/python3.7/dist-packages (from tensorboard>=1.15->joeynmt==1.3) (0.12.0)\n",
            "Requirement already satisfied: tensorboard-plugin-wit>=1.6.0 in /usr/local/lib/python3.7/dist-packages (from tensorboard>=1.15->joeynmt==1.3) (1.8.0)\n",
            "Requirement already satisfied: google-auth<2,>=1.6.3 in /usr/local/lib/python3.7/dist-packages (from tensorboard>=1.15->joeynmt==1.3) (1.35.0)\n",
            "Requirement already satisfied: tensorboard-data-server<0.7.0,>=0.6.0 in /usr/local/lib/python3.7/dist-packages (from tensorboard>=1.15->joeynmt==1.3) (0.6.1)\n",
            "Requirement already satisfied: grpcio>=1.24.3 in /usr/local/lib/python3.7/dist-packages (from tensorboard>=1.15->joeynmt==1.3) (1.41.0)\n",
            "Requirement already satisfied: werkzeug>=0.11.15 in /usr/local/lib/python3.7/dist-packages (from tensorboard>=1.15->joeynmt==1.3) (1.0.1)\n",
            "Requirement already satisfied: protobuf>=3.6.0 in /usr/local/lib/python3.7/dist-packages (from tensorboard>=1.15->joeynmt==1.3) (3.17.3)\n",
            "Requirement already satisfied: wheel>=0.26 in /usr/local/lib/python3.7/dist-packages (from tensorboard>=1.15->joeynmt==1.3) (0.37.0)\n",
            "Requirement already satisfied: requests<3,>=2.21.0 in /usr/local/lib/python3.7/dist-packages (from tensorboard>=1.15->joeynmt==1.3) (2.23.0)\n",
            "Requirement already satisfied: markdown>=2.6.8 in /usr/local/lib/python3.7/dist-packages (from tensorboard>=1.15->joeynmt==1.3) (3.3.4)\n",
            "Requirement already satisfied: google-auth-oauthlib<0.5,>=0.4.1 in /usr/local/lib/python3.7/dist-packages (from tensorboard>=1.15->joeynmt==1.3) (0.4.6)\n",
            "Requirement already satisfied: rsa<5,>=3.1.4 in /usr/local/lib/python3.7/dist-packages (from google-auth<2,>=1.6.3->tensorboard>=1.15->joeynmt==1.3) (4.7.2)\n",
            "Requirement already satisfied: pyasn1-modules>=0.2.1 in /usr/local/lib/python3.7/dist-packages (from google-auth<2,>=1.6.3->tensorboard>=1.15->joeynmt==1.3) (0.2.8)\n",
            "Requirement already satisfied: cachetools<5.0,>=2.0.0 in /usr/local/lib/python3.7/dist-packages (from google-auth<2,>=1.6.3->tensorboard>=1.15->joeynmt==1.3) (4.2.4)\n",
            "Requirement already satisfied: requests-oauthlib>=0.7.0 in /usr/local/lib/python3.7/dist-packages (from google-auth-oauthlib<0.5,>=0.4.1->tensorboard>=1.15->joeynmt==1.3) (1.3.0)\n",
            "Requirement already satisfied: importlib-metadata in /usr/local/lib/python3.7/dist-packages (from markdown>=2.6.8->tensorboard>=1.15->joeynmt==1.3) (4.8.1)\n",
            "Requirement already satisfied: pyasn1<0.5.0,>=0.4.6 in /usr/local/lib/python3.7/dist-packages (from pyasn1-modules>=0.2.1->google-auth<2,>=1.6.3->tensorboard>=1.15->joeynmt==1.3) (0.4.8)\n",
            "Requirement already satisfied: urllib3!=1.25.0,!=1.25.1,<1.26,>=1.21.1 in /usr/local/lib/python3.7/dist-packages (from requests<3,>=2.21.0->tensorboard>=1.15->joeynmt==1.3) (1.24.3)\n",
            "Requirement already satisfied: certifi>=2017.4.17 in /usr/local/lib/python3.7/dist-packages (from requests<3,>=2.21.0->tensorboard>=1.15->joeynmt==1.3) (2021.5.30)\n",
            "Requirement already satisfied: chardet<4,>=3.0.2 in /usr/local/lib/python3.7/dist-packages (from requests<3,>=2.21.0->tensorboard>=1.15->joeynmt==1.3) (3.0.4)\n",
            "Requirement already satisfied: idna<3,>=2.5 in /usr/local/lib/python3.7/dist-packages (from requests<3,>=2.21.0->tensorboard>=1.15->joeynmt==1.3) (2.10)\n",
            "Requirement already satisfied: oauthlib>=3.0.0 in /usr/local/lib/python3.7/dist-packages (from requests-oauthlib>=0.7.0->google-auth-oauthlib<0.5,>=0.4.1->tensorboard>=1.15->joeynmt==1.3) (3.1.1)\n",
            "Requirement already satisfied: tqdm in /usr/local/lib/python3.7/dist-packages (from torchtext>=0.10.0->joeynmt==1.3) (4.62.3)\n",
            "Requirement already satisfied: zipp>=0.5 in /usr/local/lib/python3.7/dist-packages (from importlib-metadata->markdown>=2.6.8->tensorboard>=1.15->joeynmt==1.3) (3.6.0)\n",
            "Requirement already satisfied: kiwisolver>=1.0.1 in /usr/local/lib/python3.7/dist-packages (from matplotlib->joeynmt==1.3) (1.3.2)\n",
            "Requirement already satisfied: cycler>=0.10 in /usr/local/lib/python3.7/dist-packages (from matplotlib->joeynmt==1.3) (0.10.0)\n",
            "Requirement already satisfied: python-dateutil>=2.1 in /usr/local/lib/python3.7/dist-packages (from matplotlib->joeynmt==1.3) (2.8.2)\n",
            "Requirement already satisfied: pyparsing!=2.0.4,!=2.1.2,!=2.1.6,>=2.0.1 in /usr/local/lib/python3.7/dist-packages (from matplotlib->joeynmt==1.3) (2.4.7)\n",
            "Requirement already satisfied: pandas>=0.23 in /usr/local/lib/python3.7/dist-packages (from seaborn->joeynmt==1.3) (1.1.5)\n",
            "Requirement already satisfied: scipy>=1.0 in /usr/local/lib/python3.7/dist-packages (from seaborn->joeynmt==1.3) (1.4.1)\n",
            "Requirement already satisfied: pytz>=2017.2 in /usr/local/lib/python3.7/dist-packages (from pandas>=0.23->seaborn->joeynmt==1.3) (2018.9)\n",
            "Building wheels for collected packages: joeynmt, wrapt\n",
            "  Building wheel for joeynmt (setup.py) ... \u001b[?25l\u001b[?25hdone\n",
            "  Created wheel for joeynmt: filename=joeynmt-1.3-py3-none-any.whl size=86029 sha256=7f616edc17f3f1ab557e21aaf1931c34fedc2db6cf98f9d32c2e7064748dc2a6\n",
            "  Stored in directory: /tmp/pip-ephem-wheel-cache-cndrywi4/wheels/0a/f4/bf/6c9d3b8efbfece6cd209f865be37382b02e7c3584df2e28ca4\n",
            "  Building wheel for wrapt (setup.py) ... \u001b[?25l\u001b[?25hdone\n",
            "  Created wheel for wrapt: filename=wrapt-1.11.1-cp37-cp37m-linux_x86_64.whl size=68455 sha256=ab8137574a92623bc7d65fabf243d79aa69246dcc9eff235d6c5f3baf7fb49db\n",
            "  Stored in directory: /root/.cache/pip/wheels/4e/58/9d/da8bad4545585ca52311498ff677647c95c7b690b3040171f8\n",
            "Successfully built joeynmt wrapt\n",
            "Installing collected packages: typing-extensions, six, wrapt, typed-ast, lazy-object-proxy, portalocker, platformdirs, mccabe, isort, colorama, astroid, subword-nmt, sacrebleu, pyyaml, pylint, joeynmt\n",
            "  Attempting uninstall: typing-extensions\n",
            "    Found existing installation: typing-extensions 3.7.4.3\n",
            "    Uninstalling typing-extensions-3.7.4.3:\n",
            "      Successfully uninstalled typing-extensions-3.7.4.3\n",
            "  Attempting uninstall: six\n",
            "    Found existing installation: six 1.15.0\n",
            "    Uninstalling six-1.15.0:\n",
            "      Successfully uninstalled six-1.15.0\n",
            "  Attempting uninstall: wrapt\n",
            "    Found existing installation: wrapt 1.12.1\n",
            "    Uninstalling wrapt-1.12.1:\n",
            "      Successfully uninstalled wrapt-1.12.1\n",
            "  Attempting uninstall: pyyaml\n",
            "    Found existing installation: PyYAML 3.13\n",
            "    Uninstalling PyYAML-3.13:\n",
            "      Successfully uninstalled PyYAML-3.13\n",
            "\u001b[31mERROR: pip's dependency resolver does not currently take into account all the packages that are installed. This behaviour is the source of the following dependency conflicts.\n",
            "tensorflow 2.6.0 requires six~=1.15.0, but you have six 1.12.0 which is incompatible.\n",
            "tensorflow 2.6.0 requires typing-extensions~=3.7.4, but you have typing-extensions 3.10.0.2 which is incompatible.\n",
            "tensorflow 2.6.0 requires wrapt~=1.12.1, but you have wrapt 1.11.1 which is incompatible.\n",
            "google-colab 1.0.0 requires six~=1.15.0, but you have six 1.12.0 which is incompatible.\n",
            "google-api-python-client 1.12.8 requires six<2dev,>=1.13.0, but you have six 1.12.0 which is incompatible.\n",
            "google-api-core 1.26.3 requires six>=1.13.0, but you have six 1.12.0 which is incompatible.\n",
            "datascience 0.10.6 requires folium==0.2.1, but you have folium 0.8.3 which is incompatible.\n",
            "albumentations 0.1.12 requires imgaug<0.2.7,>=0.2.5, but you have imgaug 0.2.9 which is incompatible.\u001b[0m\n",
            "Successfully installed astroid-2.8.2 colorama-0.4.4 isort-5.9.3 joeynmt-1.3 lazy-object-proxy-1.6.0 mccabe-0.6.1 platformdirs-2.4.0 portalocker-2.3.2 pylint-2.11.1 pyyaml-5.4.1 sacrebleu-2.0.0 six-1.12.0 subword-nmt-0.3.7 typed-ast-1.4.3 typing-extensions-3.10.0.2 wrapt-1.11.1\n"
          ]
        }
      ]
    },
    {
      "cell_type": "markdown",
      "metadata": {
        "id": "AaE77Tcppex9"
      },
      "source": [
        "# Preprocessing the Data into Subword BPE Tokens\n",
        "\n",
        "- One of the most powerful improvements for agglutinative languages (a feature of most Bantu languages) is using BPE tokenization [ (Sennrich, 2015) ](https://arxiv.org/abs/1508.07909).\n",
        "\n",
        "- It was also shown that by optimizing the umber of BPE codes we significantly improve results for low-resourced languages [(Sennrich, 2019)](https://www.aclweb.org/anthology/P19-1021) [(Martinus, 2019)](https://arxiv.org/abs/1906.05685)\n",
        "\n",
        "- Below we have the scripts for doing BPE tokenization of our data. We use 4000 tokens as recommended by [(Sennrich, 2019)](https://www.aclweb.org/anthology/P19-1021). You do not need to change anything. Simply running the below will be suitable. "
      ]
    },
    {
      "cell_type": "code",
      "metadata": {
        "colab": {
          "base_uri": "https://localhost:8080/"
        },
        "id": "H-TyjtmXB1mL",
        "outputId": "dc2532f8-bbeb-49c0-cf5e-ad3cdbc28ea1"
      },
      "source": [
        "# One of the huge boosts in NMT performance was to use a different method of tokenizing. \n",
        "# Usually, NMT would tokenize by words. However, using a method called BPE gave amazing boosts to performance\n",
        "\n",
        "# Do subword NMT\n",
        "from os import path\n",
        "os.environ[\"src\"] = source_language # Sets them in bash as well, since we often use bash scripts\n",
        "os.environ[\"tgt\"] = target_language\n",
        "\n",
        "# Learn BPEs on the training data.\n",
        "os.environ[\"data_path\"] = path.join(\"joeynmt\", \"data\",target_language + source_language ) # Herman! \n",
        "! subword-nmt learn-joint-bpe-and-vocab --input train.$src train.$tgt -s 4000 -o bpe.codes.4000 --write-vocabulary vocab.$src vocab.$tgt\n",
        "\n",
        "# Apply BPE splits to the development and test data.\n",
        "! subword-nmt apply-bpe -c bpe.codes.4000 --vocabulary vocab.$src < train.$src > train.bpe.$src\n",
        "! subword-nmt apply-bpe -c bpe.codes.4000 --vocabulary vocab.$tgt < train.$tgt > train.bpe.$tgt\n",
        "\n",
        "! subword-nmt apply-bpe -c bpe.codes.4000 --vocabulary vocab.$src < dev.$src > dev.bpe.$src\n",
        "! subword-nmt apply-bpe -c bpe.codes.4000 --vocabulary vocab.$tgt < dev.$tgt > dev.bpe.$tgt\n",
        "! subword-nmt apply-bpe -c bpe.codes.4000 --vocabulary vocab.$src < test.$src > test.bpe.$src\n",
        "! subword-nmt apply-bpe -c bpe.codes.4000 --vocabulary vocab.$tgt < test.$tgt > test.bpe.$tgt\n",
        "\n",
        "# Create directory, move everyone we care about to the correct location\n",
        "! mkdir -p $data_path\n",
        "! cp train.* $data_path\n",
        "! cp test.* $data_path\n",
        "! cp dev.* $data_path\n",
        "! cp bpe.codes.4000 $data_path\n",
        "! ls $data_path\n",
        "\n",
        "# Also move everything we care about to a mounted location in google drive (relevant if running in colab) at gdrive_path\n",
        "! cp train.* \"$gdrive_path\"\n",
        "! cp test.* \"$gdrive_path\"\n",
        "! cp dev.* \"$gdrive_path\"\n",
        "! cp bpe.codes.4000 \"$gdrive_path\"\n",
        "! ls \"$gdrive_path\"\n",
        "\n",
        "# Create that vocab using build_vocab\n",
        "! sudo chmod 777 joeynmt/scripts/build_vocab.py\n",
        "! joeynmt/scripts/build_vocab.py joeynmt/data/$tgt$src/train.bpe.$src joeynmt/data/$tgt$src/train.bpe.$tgt --output_path joeynmt/data/$tgt$src/vocab.txt\n",
        "\n",
        "# Some output\n",
        "! echo \"BPE Kimbundu Sentences\"\n",
        "! tail -n 5 test.bpe.$tgt\n",
        "! echo \"Combined BPE Vocab\"\n",
        "! tail -n 10 joeynmt/data/$tgt$src/vocab.txt  # Herman"
      ],
      "execution_count": 15,
      "outputs": [
        {
          "output_type": "stream",
          "name": "stdout",
          "text": [
            "bpe.codes.4000\tdev.en\t     test.bpe.kmb    test.kmb\t    train.en\n",
            "dev.bpe.en\tdev.kmb      test.en\t     train.bpe.en   train.kmb\n",
            "dev.bpe.kmb\ttest.bpe.en  test.en-any.en  train.bpe.kmb\n",
            "bpe.codes.4000\tdev.en\t     test.bpe.kmb    test.kmb\t    train.en\n",
            "dev.bpe.en\tdev.kmb      test.en\t     train.bpe.en   train.kmb\n",
            "dev.bpe.kmb\ttest.bpe.en  test.en-any.en  train.bpe.kmb\n",
            "BPE Kimbundu Sentences\n",
            "O ngu@@ b@@ u ya ku@@ xikana ( Tala o kaxi 12 - 14 )\n",
            "O ka@@ pas@@ ete ka kubh@@ uluka ( Tala o kaxi 15 - 18 )\n",
            "Nga mono kwila o athu a xikina dingi se a mona kwila ey@@ e wa zolo mwene o Bibi@@ dya , wa mu bhanga yoso i u tena phala ku a kwatekesa . ”\n",
            "O xi@@ bhata ya nzumbi ikôla ( Tala o kaxi 19 - 20 )\n",
            "Ni ki@@ kw@@ at@@ ek@@ esu kya Jihova tu tena kubh@@ ânga nê !\n",
            "Combined BPE Vocab\n",
            "⁀@@\n",
            "‚\n",
            "Û@@\n",
            "Efe@@\n",
            "especi@@\n",
            "SONG@@\n",
            "HAT\n",
            "Gree@@\n",
            "‛\n",
            "ímbi\n"
          ]
        }
      ]
    },
    {
      "cell_type": "code",
      "metadata": {
        "colab": {
          "base_uri": "https://localhost:8080/"
        },
        "id": "IlMitUHR8Qy-",
        "outputId": "fe91dbab-e150-46b3-d811-7ffbdb8f148e"
      },
      "source": [
        "# Also move everything we care about to a mounted location in google drive (relevant if running in colab) at gdrive_path\n",
        "! cp train.* \"$gdrive_path\"\n",
        "! cp test.* \"$gdrive_path\"\n",
        "! cp dev.* \"$gdrive_path\"\n",
        "! cp bpe.codes.4000 \"$gdrive_path\"\n",
        "! ls \"$gdrive_path\""
      ],
      "execution_count": 16,
      "outputs": [
        {
          "output_type": "stream",
          "name": "stdout",
          "text": [
            "bpe.codes.4000\tdev.en\t     test.bpe.kmb    test.kmb\t    train.en\n",
            "dev.bpe.en\tdev.kmb      test.en\t     train.bpe.en   train.kmb\n",
            "dev.bpe.kmb\ttest.bpe.en  test.en-any.en  train.bpe.kmb\n"
          ]
        }
      ]
    },
    {
      "cell_type": "markdown",
      "metadata": {
        "id": "Ixmzi60WsUZ8"
      },
      "source": [
        "# Creating the JoeyNMT Config\n",
        "\n",
        "JoeyNMT requires a yaml config. We provide a template below. We've also set a number of defaults with it, that you may play with!\n",
        "\n",
        "- We used Transformer architecture \n",
        "- We set our dropout to reasonably high: 0.3 (recommended in  [(Sennrich, 2019)](https://www.aclweb.org/anthology/P19-1021))\n",
        "\n",
        "Things worth playing with:\n",
        "- The batch size (also recommended to change for low-resourced languages)\n",
        "- The number of epochs (we've set it at 30 just so it runs in about an hour, for testing purposes)\n",
        "- The decoder options (beam_size, alpha)\n",
        "- Evaluation metrics (BLEU versus Crhf4)"
      ]
    },
    {
      "cell_type": "code",
      "metadata": {
        "id": "h8TMgv1p3L1z"
      },
      "source": [
        "# This creates the config file for our JoeyNMT system. It might seem overwhelming so we've provided a couple of useful parameters you'll need to update\n",
        "# (You can of course play with all the parameters if you'd like!)\n",
        "\n",
        "name = '%s%s' % (target_language, source_language)\n",
        "# gdrive_path = os.environ[\"gdrive_path\"]\n",
        "\n",
        "# Create the config\n",
        "config = \"\"\"\n",
        "name: \"{target_language}{source_language}_reverse_transformer\"\n",
        "\n",
        "data:\n",
        "    src: \"{target_language}\"\n",
        "    trg: \"{source_language}\"\n",
        "    train: \"data/{name}/train.bpe\"\n",
        "    dev:   \"data/{name}/dev.bpe\"\n",
        "    test:  \"data/{name}/test.bpe\"\n",
        "    level: \"bpe\"\n",
        "    lowercase: False\n",
        "    max_sent_length: 100\n",
        "    src_vocab: \"data/{name}/vocab.txt\"\n",
        "    trg_vocab: \"data/{name}/vocab.txt\"\n",
        "\n",
        "testing:\n",
        "    beam_size: 5\n",
        "    alpha: 1.0\n",
        "\n",
        "training:\n",
        "    #load_model: \"{gdrive_path}/models/{name}_transformer/1.ckpt\" # if uncommented, load a pre-trained model from this checkpoint\n",
        "    random_seed: 42\n",
        "    optimizer: \"adam\"\n",
        "    normalization: \"tokens\"\n",
        "    adam_betas: [0.9, 0.999] \n",
        "    scheduling: \"plateau\"           # TODO: try switching from plateau to Noam scheduling\n",
        "    patience: 5                     # For plateau: decrease learning rate by decrease_factor if validation score has not improved for this many validation rounds.\n",
        "    learning_rate_factor: 0.5       # factor for Noam scheduler (used with Transformer)\n",
        "    learning_rate_warmup: 1000      # warmup steps for Noam scheduler (used with Transformer)\n",
        "    decrease_factor: 0.7\n",
        "    loss: \"crossentropy\"\n",
        "    learning_rate: 0.0003\n",
        "    learning_rate_min: 0.00000001\n",
        "    weight_decay: 0.0\n",
        "    label_smoothing: 0.1\n",
        "    batch_size: 4096\n",
        "    batch_type: \"token\"\n",
        "    eval_batch_size: 3600\n",
        "    eval_batch_type: \"token\"\n",
        "    batch_multiplier: 1\n",
        "    early_stopping_metric: \"ppl\"\n",
        "    epochs: 5                  # TODO: Decrease for when playing around and checking of working. Around 30 is sufficient to check if its working at all\n",
        "    validation_freq: 1000          # TODO: Set to at least once per epoch.\n",
        "    logging_freq: 100\n",
        "    eval_metric: \"bleu\"\n",
        "    model_dir: \"models/{name}_reverse_transformer\"\n",
        "    overwrite: True              # TODO: Set to True if you want to overwrite possibly existing models. \n",
        "    shuffle: True\n",
        "    use_cuda: True\n",
        "    max_output_length: 100\n",
        "    print_valid_sents: [0, 1, 2, 3]\n",
        "    keep_last_ckpts: 3\n",
        "\n",
        "model:\n",
        "    initializer: \"xavier\"\n",
        "    bias_initializer: \"zeros\"\n",
        "    init_gain: 1.0\n",
        "    embed_initializer: \"xavier\"\n",
        "    embed_init_gain: 1.0\n",
        "    tied_embeddings: True\n",
        "    tied_softmax: True\n",
        "    encoder:\n",
        "        type: \"transformer\"\n",
        "        num_layers: 6\n",
        "        num_heads: 4             # TODO: Increase to 8 for larger data.\n",
        "        embeddings:\n",
        "            embedding_dim: 256   # TODO: Increase to 512 for larger data.\n",
        "            scale: True\n",
        "            dropout: 0.2\n",
        "        # typically ff_size = 4 x hidden_size\n",
        "        hidden_size: 256         # TODO: Increase to 512 for larger data.\n",
        "        ff_size: 1024            # TODO: Increase to 2048 for larger data.\n",
        "        dropout: 0.3\n",
        "    decoder:\n",
        "        type: \"transformer\"\n",
        "        num_layers: 6\n",
        "        num_heads: 4              # TODO: Increase to 8 for larger data.\n",
        "        embeddings:\n",
        "            embedding_dim: 256    # TODO: Increase to 512 for larger data.\n",
        "            scale: True\n",
        "            dropout: 0.2\n",
        "        # typically ff_size = 4 x hidden_size\n",
        "        hidden_size: 256         # TODO: Increase to 512 for larger data.\n",
        "        ff_size: 1024            # TODO: Increase to 2048 for larger data.\n",
        "        dropout: 0.3\n",
        "\"\"\".format(name=name, gdrive_path=os.environ[\"gdrive_path\"], source_language=source_language, target_language=target_language)\n",
        "with open(\"joeynmt/configs/transformer_reverse_{name}.yaml\".format(name=name),'w') as f:\n",
        "    f.write(config)"
      ],
      "execution_count": 17,
      "outputs": []
    },
    {
      "cell_type": "markdown",
      "metadata": {
        "id": "oEzoJtV2MIpt"
      },
      "source": [
        "# Train the Model\n",
        "\n",
        "This single line of joeynmt runs the training using the config we made above"
      ]
    },
    {
      "cell_type": "code",
      "metadata": {
        "colab": {
          "base_uri": "https://localhost:8080/"
        },
        "id": "WzbNYNdjLgNb",
        "outputId": "e49c469a-c86e-4fff-ea48-c6b804c4685b"
      },
      "source": [
        "# Train the model\n",
        "# You can press Ctrl-C to stop. And then run the next cell to save your checkpoints! \n",
        "!cd joeynmt; python3 -m joeynmt train configs/transformer_reverse_$tgt$src.yaml"
      ],
      "execution_count": 18,
      "outputs": [
        {
          "output_type": "stream",
          "name": "stdout",
          "text": [
            "2021-10-08 18:40:50,276 - INFO - root - Hello! This is Joey-NMT (version 1.3).\n",
            "2021-10-08 18:40:50,342 - INFO - joeynmt.data - Loading training data...\n",
            "2021-10-08 18:40:51,861 - INFO - joeynmt.data - Building vocabulary...\n",
            "2021-10-08 18:40:52,201 - INFO - joeynmt.data - Loading dev data...\n",
            "2021-10-08 18:40:52,215 - INFO - joeynmt.data - Loading test data...\n",
            "2021-10-08 18:40:52,248 - INFO - joeynmt.data - Data loaded.\n",
            "2021-10-08 18:40:52,248 - INFO - joeynmt.model - Building an encoder-decoder model...\n",
            "2021-10-08 18:40:52,685 - INFO - joeynmt.model - Enc-dec model built.\n",
            "2021-10-08 18:40:54,340 - INFO - joeynmt.training - Total params: 12143104\n",
            "2021-10-08 18:40:54,342 - WARNING - joeynmt.training - `keep_last_ckpts` option is outdated. Please use `keep_best_ckpts`, instead.\n",
            "2021-10-08 18:41:13,599 - INFO - joeynmt.helpers - cfg.name                           : kmben_reverse_transformer\n",
            "2021-10-08 18:41:13,599 - INFO - joeynmt.helpers - cfg.data.src                       : kmb\n",
            "2021-10-08 18:41:13,599 - INFO - joeynmt.helpers - cfg.data.trg                       : en\n",
            "2021-10-08 18:41:13,600 - INFO - joeynmt.helpers - cfg.data.train                     : data/kmben/train.bpe\n",
            "2021-10-08 18:41:13,600 - INFO - joeynmt.helpers - cfg.data.dev                       : data/kmben/dev.bpe\n",
            "2021-10-08 18:41:13,600 - INFO - joeynmt.helpers - cfg.data.test                      : data/kmben/test.bpe\n",
            "2021-10-08 18:41:13,600 - INFO - joeynmt.helpers - cfg.data.level                     : bpe\n",
            "2021-10-08 18:41:13,600 - INFO - joeynmt.helpers - cfg.data.lowercase                 : False\n",
            "2021-10-08 18:41:13,600 - INFO - joeynmt.helpers - cfg.data.max_sent_length           : 100\n",
            "2021-10-08 18:41:13,600 - INFO - joeynmt.helpers - cfg.data.src_vocab                 : data/kmben/vocab.txt\n",
            "2021-10-08 18:41:13,601 - INFO - joeynmt.helpers - cfg.data.trg_vocab                 : data/kmben/vocab.txt\n",
            "2021-10-08 18:41:13,601 - INFO - joeynmt.helpers - cfg.testing.beam_size              : 5\n",
            "2021-10-08 18:41:13,601 - INFO - joeynmt.helpers - cfg.testing.alpha                  : 1.0\n",
            "2021-10-08 18:41:13,601 - INFO - joeynmt.helpers - cfg.training.random_seed           : 42\n",
            "2021-10-08 18:41:13,601 - INFO - joeynmt.helpers - cfg.training.optimizer             : adam\n",
            "2021-10-08 18:41:13,601 - INFO - joeynmt.helpers - cfg.training.normalization         : tokens\n",
            "2021-10-08 18:41:13,601 - INFO - joeynmt.helpers - cfg.training.adam_betas            : [0.9, 0.999]\n",
            "2021-10-08 18:41:13,601 - INFO - joeynmt.helpers - cfg.training.scheduling            : plateau\n",
            "2021-10-08 18:41:13,601 - INFO - joeynmt.helpers - cfg.training.patience              : 5\n",
            "2021-10-08 18:41:13,602 - INFO - joeynmt.helpers - cfg.training.learning_rate_factor  : 0.5\n",
            "2021-10-08 18:41:13,602 - INFO - joeynmt.helpers - cfg.training.learning_rate_warmup  : 1000\n",
            "2021-10-08 18:41:13,602 - INFO - joeynmt.helpers - cfg.training.decrease_factor       : 0.7\n",
            "2021-10-08 18:41:13,602 - INFO - joeynmt.helpers - cfg.training.loss                  : crossentropy\n",
            "2021-10-08 18:41:13,602 - INFO - joeynmt.helpers - cfg.training.learning_rate         : 0.0003\n",
            "2021-10-08 18:41:13,602 - INFO - joeynmt.helpers - cfg.training.learning_rate_min     : 1e-08\n",
            "2021-10-08 18:41:13,602 - INFO - joeynmt.helpers - cfg.training.weight_decay          : 0.0\n",
            "2021-10-08 18:41:13,603 - INFO - joeynmt.helpers - cfg.training.label_smoothing       : 0.1\n",
            "2021-10-08 18:41:13,603 - INFO - joeynmt.helpers - cfg.training.batch_size            : 4096\n",
            "2021-10-08 18:41:13,603 - INFO - joeynmt.helpers - cfg.training.batch_type            : token\n",
            "2021-10-08 18:41:13,603 - INFO - joeynmt.helpers - cfg.training.eval_batch_size       : 3600\n",
            "2021-10-08 18:41:13,603 - INFO - joeynmt.helpers - cfg.training.eval_batch_type       : token\n",
            "2021-10-08 18:41:13,603 - INFO - joeynmt.helpers - cfg.training.batch_multiplier      : 1\n",
            "2021-10-08 18:41:13,603 - INFO - joeynmt.helpers - cfg.training.early_stopping_metric : ppl\n",
            "2021-10-08 18:41:13,603 - INFO - joeynmt.helpers - cfg.training.epochs                : 5\n",
            "2021-10-08 18:41:13,604 - INFO - joeynmt.helpers - cfg.training.validation_freq       : 1000\n",
            "2021-10-08 18:41:13,604 - INFO - joeynmt.helpers - cfg.training.logging_freq          : 100\n",
            "2021-10-08 18:41:13,604 - INFO - joeynmt.helpers - cfg.training.eval_metric           : bleu\n",
            "2021-10-08 18:41:13,604 - INFO - joeynmt.helpers - cfg.training.model_dir             : models/kmben_reverse_transformer\n",
            "2021-10-08 18:41:13,604 - INFO - joeynmt.helpers - cfg.training.overwrite             : True\n",
            "2021-10-08 18:41:13,604 - INFO - joeynmt.helpers - cfg.training.shuffle               : True\n",
            "2021-10-08 18:41:13,604 - INFO - joeynmt.helpers - cfg.training.use_cuda              : True\n",
            "2021-10-08 18:41:13,604 - INFO - joeynmt.helpers - cfg.training.max_output_length     : 100\n",
            "2021-10-08 18:41:13,605 - INFO - joeynmt.helpers - cfg.training.print_valid_sents     : [0, 1, 2, 3]\n",
            "2021-10-08 18:41:13,605 - INFO - joeynmt.helpers - cfg.training.keep_last_ckpts       : 3\n",
            "2021-10-08 18:41:13,605 - INFO - joeynmt.helpers - cfg.model.initializer              : xavier\n",
            "2021-10-08 18:41:13,605 - INFO - joeynmt.helpers - cfg.model.bias_initializer         : zeros\n",
            "2021-10-08 18:41:13,605 - INFO - joeynmt.helpers - cfg.model.init_gain                : 1.0\n",
            "2021-10-08 18:41:13,605 - INFO - joeynmt.helpers - cfg.model.embed_initializer        : xavier\n",
            "2021-10-08 18:41:13,605 - INFO - joeynmt.helpers - cfg.model.embed_init_gain          : 1.0\n",
            "2021-10-08 18:41:13,605 - INFO - joeynmt.helpers - cfg.model.tied_embeddings          : True\n",
            "2021-10-08 18:41:13,605 - INFO - joeynmt.helpers - cfg.model.tied_softmax             : True\n",
            "2021-10-08 18:41:13,606 - INFO - joeynmt.helpers - cfg.model.encoder.type             : transformer\n",
            "2021-10-08 18:41:13,606 - INFO - joeynmt.helpers - cfg.model.encoder.num_layers       : 6\n",
            "2021-10-08 18:41:13,606 - INFO - joeynmt.helpers - cfg.model.encoder.num_heads        : 4\n",
            "2021-10-08 18:41:13,606 - INFO - joeynmt.helpers - cfg.model.encoder.embeddings.embedding_dim : 256\n",
            "2021-10-08 18:41:13,606 - INFO - joeynmt.helpers - cfg.model.encoder.embeddings.scale : True\n",
            "2021-10-08 18:41:13,606 - INFO - joeynmt.helpers - cfg.model.encoder.embeddings.dropout : 0.2\n",
            "2021-10-08 18:41:13,606 - INFO - joeynmt.helpers - cfg.model.encoder.hidden_size      : 256\n",
            "2021-10-08 18:41:13,606 - INFO - joeynmt.helpers - cfg.model.encoder.ff_size          : 1024\n",
            "2021-10-08 18:41:13,607 - INFO - joeynmt.helpers - cfg.model.encoder.dropout          : 0.3\n",
            "2021-10-08 18:41:13,607 - INFO - joeynmt.helpers - cfg.model.decoder.type             : transformer\n",
            "2021-10-08 18:41:13,607 - INFO - joeynmt.helpers - cfg.model.decoder.num_layers       : 6\n",
            "2021-10-08 18:41:13,607 - INFO - joeynmt.helpers - cfg.model.decoder.num_heads        : 4\n",
            "2021-10-08 18:41:13,607 - INFO - joeynmt.helpers - cfg.model.decoder.embeddings.embedding_dim : 256\n",
            "2021-10-08 18:41:13,607 - INFO - joeynmt.helpers - cfg.model.decoder.embeddings.scale : True\n",
            "2021-10-08 18:41:13,607 - INFO - joeynmt.helpers - cfg.model.decoder.embeddings.dropout : 0.2\n",
            "2021-10-08 18:41:13,607 - INFO - joeynmt.helpers - cfg.model.decoder.hidden_size      : 256\n",
            "2021-10-08 18:41:13,608 - INFO - joeynmt.helpers - cfg.model.decoder.ff_size          : 1024\n",
            "2021-10-08 18:41:13,608 - INFO - joeynmt.helpers - cfg.model.decoder.dropout          : 0.3\n",
            "2021-10-08 18:41:13,608 - INFO - joeynmt.helpers - Data set sizes: \n",
            "\ttrain 88453,\n",
            "\tvalid 1000,\n",
            "\ttest 2693\n",
            "2021-10-08 18:41:13,608 - INFO - joeynmt.helpers - First training example:\n",
            "\t[SRC] 7 Kala Davidi o mundu ua Jihova lelu , u sota ue kulondekesa o kulenduka .\n",
            "\t[TRG] 7 Like David , Jehovah ’ s people today try to be humble .\n",
            "2021-10-08 18:41:13,608 - INFO - joeynmt.helpers - First 10 words (src): (0) <unk> (1) <pad> (2) <s> (3) </s> (4) , (5) . (6) o (7) ku (8) mu (9) a\n",
            "2021-10-08 18:41:13,608 - INFO - joeynmt.helpers - First 10 words (trg): (0) <unk> (1) <pad> (2) <s> (3) </s> (4) , (5) . (6) o (7) ku (8) mu (9) a\n",
            "2021-10-08 18:41:13,608 - INFO - joeynmt.helpers - Number of Src words (types): 4230\n",
            "2021-10-08 18:41:13,609 - INFO - joeynmt.helpers - Number of Trg words (types): 4230\n",
            "2021-10-08 18:41:13,609 - INFO - joeynmt.training - Model(\n",
            "\tencoder=TransformerEncoder(num_layers=6, num_heads=4),\n",
            "\tdecoder=TransformerDecoder(num_layers=6, num_heads=4),\n",
            "\tsrc_embed=Embeddings(embedding_dim=256, vocab_size=4230),\n",
            "\ttrg_embed=Embeddings(embedding_dim=256, vocab_size=4230))\n",
            "2021-10-08 18:41:13,613 - INFO - joeynmt.training - Train stats:\n",
            "\tdevice: cuda\n",
            "\tn_gpu: 1\n",
            "\t16-bits training: False\n",
            "\tgradient accumulation: 1\n",
            "\tbatch size per device: 4096\n",
            "\ttotal batch size (w. parallel & accumulation): 4096\n",
            "2021-10-08 18:41:13,614 - INFO - joeynmt.training - EPOCH 1\n",
            "2021-10-08 18:41:48,671 - INFO - joeynmt.training - Epoch   1, Step:      100, Batch Loss:     5.545044, Tokens per Sec:     3932, Lr: 0.000300\n",
            "2021-10-08 18:42:23,335 - INFO - joeynmt.training - Epoch   1, Step:      200, Batch Loss:     5.214503, Tokens per Sec:     4143, Lr: 0.000300\n",
            "2021-10-08 18:42:58,360 - INFO - joeynmt.training - Epoch   1, Step:      300, Batch Loss:     4.983192, Tokens per Sec:     4050, Lr: 0.000300\n",
            "2021-10-08 18:43:33,296 - INFO - joeynmt.training - Epoch   1, Step:      400, Batch Loss:     4.833946, Tokens per Sec:     4072, Lr: 0.000300\n",
            "2021-10-08 18:44:08,164 - INFO - joeynmt.training - Epoch   1, Step:      500, Batch Loss:     4.567436, Tokens per Sec:     4053, Lr: 0.000300\n",
            "2021-10-08 18:44:42,658 - INFO - joeynmt.training - Epoch   1, Step:      600, Batch Loss:     4.499518, Tokens per Sec:     4065, Lr: 0.000300\n",
            "2021-10-08 18:45:17,201 - INFO - joeynmt.training - Epoch   1, Step:      700, Batch Loss:     4.423463, Tokens per Sec:     4036, Lr: 0.000300\n",
            "2021-10-08 18:45:52,072 - INFO - joeynmt.training - Epoch   1, Step:      800, Batch Loss:     4.283213, Tokens per Sec:     4026, Lr: 0.000300\n",
            "2021-10-08 18:46:26,932 - INFO - joeynmt.training - Epoch   1, Step:      900, Batch Loss:     4.195297, Tokens per Sec:     4073, Lr: 0.000300\n",
            "2021-10-08 18:47:01,563 - INFO - joeynmt.training - Epoch   1, Step:     1000, Batch Loss:     4.099452, Tokens per Sec:     4117, Lr: 0.000300\n",
            "2021-10-08 18:48:13,101 - WARNING - sacrebleu - That's 100 lines that end in a tokenized period ('.')\n",
            "2021-10-08 18:48:13,102 - WARNING - sacrebleu - It looks like you forgot to detokenize your test data, which may hurt your score.\n",
            "2021-10-08 18:48:13,102 - WARNING - sacrebleu - If you insist your data is detokenized, or don't care, you can suppress this message with the `force` parameter.\n",
            "2021-10-08 18:48:13,113 - INFO - joeynmt.training - Hooray! New best validation result [ppl]!\n",
            "2021-10-08 18:48:13,582 - INFO - joeynmt.training - Example #0\n",
            "2021-10-08 18:48:13,583 - INFO - joeynmt.training - \tSource:     Muhatu’ami Nora ni eme , tu sakidila kiavulu Jihova mu ioso ia tu bhana , etu tuene mu suinisa ue akuetu phala ku lola Jihova . — Malakiia 3 : 10 .\n",
            "2021-10-08 18:48:13,583 - INFO - joeynmt.training - \tReference:  Nora and I are very grateful to Jehovah for all his kind provisions , and we encourage others also to test Jehovah out. — Malachi 3 : 10 .\n",
            "2021-10-08 18:48:13,583 - INFO - joeynmt.training - \tHypothesis: The Bible ’ s Witnesses , we have not be to be to be to be to be to Jehovah . — 1 : 7 .\n",
            "2021-10-08 18:48:13,583 - INFO - joeynmt.training - Example #1\n",
            "2021-10-08 18:48:13,583 - INFO - joeynmt.training - \tSource:     Kiki ki kuatekesa benge - benge o jiphange a sola mimbu phala o madiskursu .\n",
            "2021-10-08 18:48:13,583 - INFO - joeynmt.training - \tReference:  This can be helpful , for example , when a brother needs to choose a song for a public talk .\n",
            "2021-10-08 18:48:13,583 - INFO - joeynmt.training - \tHypothesis: The Bible is not be a family to be a family .\n",
            "2021-10-08 18:48:13,583 - INFO - joeynmt.training - Example #2\n",
            "2021-10-08 18:48:13,584 - INFO - joeynmt.training - \tSource:     Kuene ngó maubhezelu a iiadi — o ubhezelu ua kidi ni ubhezelu ua makutu .\n",
            "2021-10-08 18:48:13,584 - INFO - joeynmt.training - \tReference:  The Bible teaches that there are two types of religion — true religion and false religion .\n",
            "2021-10-08 18:48:13,584 - INFO - joeynmt.training - \tHypothesis: The Bible is a family of the Bible ’ s people .\n",
            "2021-10-08 18:48:13,584 - INFO - joeynmt.training - Example #3\n",
            "2021-10-08 18:48:13,584 - INFO - joeynmt.training - \tSource:     Eie ua buika o kidifuanganu kia Nzambi , o diiala . ” — TERTULIANO , O TRAGE DAS MULHERES , KU HAMA IA KAIIADI , K . K .\n",
            "2021-10-08 18:48:13,585 - INFO - joeynmt.training - \tReference:  You destroyed so easily God ’ s image , man . ” — TERTULLIAN , ON THE APPAREL OF WOMEN , SECOND CENTURY C.E.\n",
            "2021-10-08 18:48:13,585 - INFO - joeynmt.training - \tHypothesis: The Bible ’ s Kingdom of the Bible ’ s Kingdom . ”\n",
            "2021-10-08 18:48:13,585 - INFO - joeynmt.training - Validation result (greedy) at epoch   1, step     1000: bleu:   2.55, loss: 103556.8750, ppl:  59.4373, duration: 72.0211s\n",
            "2021-10-08 18:48:48,284 - INFO - joeynmt.training - Epoch   1, Step:     1100, Batch Loss:     4.042501, Tokens per Sec:     4026, Lr: 0.000300\n",
            "2021-10-08 18:49:23,675 - INFO - joeynmt.training - Epoch   1, Step:     1200, Batch Loss:     3.896022, Tokens per Sec:     4014, Lr: 0.000300\n",
            "2021-10-08 18:49:58,238 - INFO - joeynmt.training - Epoch   1, Step:     1300, Batch Loss:     3.987535, Tokens per Sec:     4003, Lr: 0.000300\n",
            "2021-10-08 18:50:32,939 - INFO - joeynmt.training - Epoch   1, Step:     1400, Batch Loss:     4.062334, Tokens per Sec:     3962, Lr: 0.000300\n",
            "2021-10-08 18:51:07,740 - INFO - joeynmt.training - Epoch   1, Step:     1500, Batch Loss:     3.843611, Tokens per Sec:     4018, Lr: 0.000300\n",
            "2021-10-08 18:51:42,358 - INFO - joeynmt.training - Epoch   1, Step:     1600, Batch Loss:     3.759509, Tokens per Sec:     4069, Lr: 0.000300\n",
            "2021-10-08 18:51:48,058 - INFO - joeynmt.training - Epoch   1: total training loss 7253.59\n",
            "2021-10-08 18:51:48,058 - INFO - joeynmt.training - EPOCH 2\n",
            "2021-10-08 18:52:16,757 - INFO - joeynmt.training - Epoch   2, Step:     1700, Batch Loss:     3.774071, Tokens per Sec:     3963, Lr: 0.000300\n",
            "2021-10-08 18:52:51,934 - INFO - joeynmt.training - Epoch   2, Step:     1800, Batch Loss:     3.907472, Tokens per Sec:     4045, Lr: 0.000300\n",
            "2021-10-08 18:53:26,607 - INFO - joeynmt.training - Epoch   2, Step:     1900, Batch Loss:     3.823468, Tokens per Sec:     4000, Lr: 0.000300\n",
            "2021-10-08 18:54:01,259 - INFO - joeynmt.training - Epoch   2, Step:     2000, Batch Loss:     3.738792, Tokens per Sec:     4011, Lr: 0.000300\n",
            "2021-10-08 18:55:17,908 - WARNING - sacrebleu - That's 100 lines that end in a tokenized period ('.')\n",
            "2021-10-08 18:55:17,908 - WARNING - sacrebleu - It looks like you forgot to detokenize your test data, which may hurt your score.\n",
            "2021-10-08 18:55:17,908 - WARNING - sacrebleu - If you insist your data is detokenized, or don't care, you can suppress this message with the `force` parameter.\n",
            "2021-10-08 18:55:17,914 - INFO - joeynmt.training - Hooray! New best validation result [ppl]!\n",
            "2021-10-08 18:55:18,376 - INFO - joeynmt.training - Example #0\n",
            "2021-10-08 18:55:18,376 - INFO - joeynmt.training - \tSource:     Muhatu’ami Nora ni eme , tu sakidila kiavulu Jihova mu ioso ia tu bhana , etu tuene mu suinisa ue akuetu phala ku lola Jihova . — Malakiia 3 : 10 .\n",
            "2021-10-08 18:55:18,376 - INFO - joeynmt.training - \tReference:  Nora and I are very grateful to Jehovah for all his kind provisions , and we encourage others also to test Jehovah out. — Malachi 3 : 10 .\n",
            "2021-10-08 18:55:18,377 - INFO - joeynmt.training - \tHypothesis: I had been been a very very very , and I have to serve Jehovah and our love our relationship with Jehovah . — 1 Corinthians 6 : 10 .\n",
            "2021-10-08 18:55:18,377 - INFO - joeynmt.training - Example #1\n",
            "2021-10-08 18:55:18,377 - INFO - joeynmt.training - \tSource:     Kiki ki kuatekesa benge - benge o jiphange a sola mimbu phala o madiskursu .\n",
            "2021-10-08 18:55:18,377 - INFO - joeynmt.training - \tReference:  This can be helpful , for example , when a brother needs to choose a song for a public talk .\n",
            "2021-10-08 18:55:18,377 - INFO - joeynmt.training - \tHypothesis: This is not not to help the congregation to be a good news .\n",
            "2021-10-08 18:55:18,377 - INFO - joeynmt.training - Example #2\n",
            "2021-10-08 18:55:18,377 - INFO - joeynmt.training - \tSource:     Kuene ngó maubhezelu a iiadi — o ubhezelu ua kidi ni ubhezelu ua makutu .\n",
            "2021-10-08 18:55:18,378 - INFO - joeynmt.training - \tReference:  The Bible teaches that there are two types of religion — true religion and false religion .\n",
            "2021-10-08 18:55:18,378 - INFO - joeynmt.training - \tHypothesis: The time of the congregation — the congregation — the world .\n",
            "2021-10-08 18:55:18,378 - INFO - joeynmt.training - Example #3\n",
            "2021-10-08 18:55:18,378 - INFO - joeynmt.training - \tSource:     Eie ua buika o kidifuanganu kia Nzambi , o diiala . ” — TERTULIANO , O TRAGE DAS MULHERES , KU HAMA IA KAIIADI , K . K .\n",
            "2021-10-08 18:55:18,378 - INFO - joeynmt.training - \tReference:  You destroyed so easily God ’ s image , man . ” — TERTULLIAN , ON THE APPAREL OF WOMEN , SECOND CENTURY C.E.\n",
            "2021-10-08 18:55:18,378 - INFO - joeynmt.training - \tHypothesis: You will be the earth of God ’ s Kingdom , and the earth , ” — PEEEEEEEEEEEEEEEEEEEEEEEEEEEEEEEEEEEEEEEEEEEEEEEEEEEEEEEEPEEPEPEEEEEPEPEPEPEPEPEPEP\n",
            "2021-10-08 18:55:18,378 - INFO - joeynmt.training - Validation result (greedy) at epoch   2, step     2000: bleu:   5.30, loss: 90548.4688, ppl:  35.5802, duration: 77.1188s\n",
            "2021-10-08 18:55:53,527 - INFO - joeynmt.training - Epoch   2, Step:     2100, Batch Loss:     3.752143, Tokens per Sec:     4053, Lr: 0.000300\n",
            "2021-10-08 18:56:28,417 - INFO - joeynmt.training - Epoch   2, Step:     2200, Batch Loss:     3.797567, Tokens per Sec:     4067, Lr: 0.000300\n",
            "2021-10-08 18:57:03,161 - INFO - joeynmt.training - Epoch   2, Step:     2300, Batch Loss:     3.622943, Tokens per Sec:     3999, Lr: 0.000300\n",
            "2021-10-08 18:57:38,368 - INFO - joeynmt.training - Epoch   2, Step:     2400, Batch Loss:     3.495339, Tokens per Sec:     4063, Lr: 0.000300\n",
            "2021-10-08 18:58:13,146 - INFO - joeynmt.training - Epoch   2, Step:     2500, Batch Loss:     3.514288, Tokens per Sec:     4099, Lr: 0.000300\n",
            "2021-10-08 18:58:48,144 - INFO - joeynmt.training - Epoch   2, Step:     2600, Batch Loss:     3.405536, Tokens per Sec:     4058, Lr: 0.000300\n",
            "2021-10-08 18:59:23,089 - INFO - joeynmt.training - Epoch   2, Step:     2700, Batch Loss:     3.428140, Tokens per Sec:     3988, Lr: 0.000300\n",
            "2021-10-08 18:59:57,891 - INFO - joeynmt.training - Epoch   2, Step:     2800, Batch Loss:     3.543361, Tokens per Sec:     4052, Lr: 0.000300\n",
            "2021-10-08 19:00:32,611 - INFO - joeynmt.training - Epoch   2, Step:     2900, Batch Loss:     3.423575, Tokens per Sec:     4084, Lr: 0.000300\n",
            "2021-10-08 19:01:07,236 - INFO - joeynmt.training - Epoch   2, Step:     3000, Batch Loss:     3.530847, Tokens per Sec:     4041, Lr: 0.000300\n",
            "2021-10-08 19:01:50,635 - WARNING - sacrebleu - That's 100 lines that end in a tokenized period ('.')\n",
            "2021-10-08 19:01:50,635 - WARNING - sacrebleu - It looks like you forgot to detokenize your test data, which may hurt your score.\n",
            "2021-10-08 19:01:50,635 - WARNING - sacrebleu - If you insist your data is detokenized, or don't care, you can suppress this message with the `force` parameter.\n",
            "2021-10-08 19:01:50,643 - INFO - joeynmt.training - Hooray! New best validation result [ppl]!\n",
            "2021-10-08 19:01:51,098 - INFO - joeynmt.training - Example #0\n",
            "2021-10-08 19:01:51,099 - INFO - joeynmt.training - \tSource:     Muhatu’ami Nora ni eme , tu sakidila kiavulu Jihova mu ioso ia tu bhana , etu tuene mu suinisa ue akuetu phala ku lola Jihova . — Malakiia 3 : 10 .\n",
            "2021-10-08 19:01:51,099 - INFO - joeynmt.training - \tReference:  Nora and I are very grateful to Jehovah for all his kind provisions , and we encourage others also to test Jehovah out. — Malachi 3 : 10 .\n",
            "2021-10-08 19:01:51,099 - INFO - joeynmt.training - \tHypothesis: My wife , I am grateful to Jehovah , and we need to do our love and to help us to keep our brothers and to serve Jehovah . — Eph . 3 : 10 .\n",
            "2021-10-08 19:01:51,099 - INFO - joeynmt.training - Example #1\n",
            "2021-10-08 19:01:51,099 - INFO - joeynmt.training - \tSource:     Kiki ki kuatekesa benge - benge o jiphange a sola mimbu phala o madiskursu .\n",
            "2021-10-08 19:01:51,099 - INFO - joeynmt.training - \tReference:  This can be helpful , for example , when a brother needs to choose a song for a public talk .\n",
            "2021-10-08 19:01:51,099 - INFO - joeynmt.training - \tHypothesis: This is a person to help them to help them to be able to the Bible .\n",
            "2021-10-08 19:01:51,100 - INFO - joeynmt.training - Example #2\n",
            "2021-10-08 19:01:51,100 - INFO - joeynmt.training - \tSource:     Kuene ngó maubhezelu a iiadi — o ubhezelu ua kidi ni ubhezelu ua makutu .\n",
            "2021-10-08 19:01:51,100 - INFO - joeynmt.training - \tReference:  The Bible teaches that there are two types of religion — true religion and false religion .\n",
            "2021-10-08 19:01:51,100 - INFO - joeynmt.training - \tHypothesis: It is a few of the congregation — the family of the Kingdom .\n",
            "2021-10-08 19:01:51,100 - INFO - joeynmt.training - Example #3\n",
            "2021-10-08 19:01:51,101 - INFO - joeynmt.training - \tSource:     Eie ua buika o kidifuanganu kia Nzambi , o diiala . ” — TERTULIANO , O TRAGE DAS MULHERES , KU HAMA IA KAIIADI , K . K .\n",
            "2021-10-08 19:01:51,101 - INFO - joeynmt.training - \tReference:  You destroyed so easily God ’ s image , man . ” — TERTULLIAN , ON THE APPAREL OF WOMEN , SECOND CENTURY C.E.\n",
            "2021-10-08 19:01:51,101 - INFO - joeynmt.training - \tHypothesis: You will be a man of God ’ s name , and the earth . ” — JEEN .\n",
            "2021-10-08 19:01:51,101 - INFO - joeynmt.training - Validation result (greedy) at epoch   2, step     3000: bleu:  10.50, loss: 81694.8594, ppl:  25.0920, duration: 43.8640s\n",
            "2021-10-08 19:02:25,801 - INFO - joeynmt.training - Epoch   2, Step:     3100, Batch Loss:     3.204836, Tokens per Sec:     4061, Lr: 0.000300\n",
            "2021-10-08 19:03:00,638 - INFO - joeynmt.training - Epoch   2, Step:     3200, Batch Loss:     3.112714, Tokens per Sec:     4056, Lr: 0.000300\n",
            "2021-10-08 19:03:11,851 - INFO - joeynmt.training - Epoch   2: total training loss 5760.54\n",
            "2021-10-08 19:03:11,852 - INFO - joeynmt.training - EPOCH 3\n",
            "2021-10-08 19:03:35,067 - INFO - joeynmt.training - Epoch   3, Step:     3300, Batch Loss:     3.320396, Tokens per Sec:     4040, Lr: 0.000300\n",
            "2021-10-08 19:04:09,562 - INFO - joeynmt.training - Epoch   3, Step:     3400, Batch Loss:     3.267076, Tokens per Sec:     4024, Lr: 0.000300\n",
            "2021-10-08 19:04:44,389 - INFO - joeynmt.training - Epoch   3, Step:     3500, Batch Loss:     3.327385, Tokens per Sec:     4025, Lr: 0.000300\n",
            "2021-10-08 19:05:18,966 - INFO - joeynmt.training - Epoch   3, Step:     3600, Batch Loss:     3.185104, Tokens per Sec:     4080, Lr: 0.000300\n",
            "2021-10-08 19:05:53,808 - INFO - joeynmt.training - Epoch   3, Step:     3700, Batch Loss:     3.118794, Tokens per Sec:     4005, Lr: 0.000300\n",
            "2021-10-08 19:06:28,631 - INFO - joeynmt.training - Epoch   3, Step:     3800, Batch Loss:     3.026960, Tokens per Sec:     4115, Lr: 0.000300\n",
            "2021-10-08 19:07:03,293 - INFO - joeynmt.training - Epoch   3, Step:     3900, Batch Loss:     2.965742, Tokens per Sec:     4016, Lr: 0.000300\n",
            "2021-10-08 19:07:37,799 - INFO - joeynmt.training - Epoch   3, Step:     4000, Batch Loss:     3.049057, Tokens per Sec:     3954, Lr: 0.000300\n",
            "2021-10-08 19:08:12,141 - WARNING - sacrebleu - That's 100 lines that end in a tokenized period ('.')\n",
            "2021-10-08 19:08:12,141 - WARNING - sacrebleu - It looks like you forgot to detokenize your test data, which may hurt your score.\n",
            "2021-10-08 19:08:12,142 - WARNING - sacrebleu - If you insist your data is detokenized, or don't care, you can suppress this message with the `force` parameter.\n",
            "2021-10-08 19:08:12,149 - INFO - joeynmt.training - Hooray! New best validation result [ppl]!\n",
            "2021-10-08 19:08:12,648 - INFO - joeynmt.helpers - delete models/kmben_reverse_transformer/1000.ckpt\n",
            "2021-10-08 19:08:12,670 - INFO - joeynmt.training - Example #0\n",
            "2021-10-08 19:08:12,671 - INFO - joeynmt.training - \tSource:     Muhatu’ami Nora ni eme , tu sakidila kiavulu Jihova mu ioso ia tu bhana , etu tuene mu suinisa ue akuetu phala ku lola Jihova . — Malakiia 3 : 10 .\n",
            "2021-10-08 19:08:12,671 - INFO - joeynmt.training - \tReference:  Nora and I are very grateful to Jehovah for all his kind provisions , and we encourage others also to test Jehovah out. — Malachi 3 : 10 .\n",
            "2021-10-08 19:08:12,671 - INFO - joeynmt.training - \tHypothesis: My wife and wife and I have a close relationship with Jehovah , and we need to do what we need to do . — Jas . 3 : 10 .\n",
            "2021-10-08 19:08:12,671 - INFO - joeynmt.training - Example #1\n",
            "2021-10-08 19:08:12,671 - INFO - joeynmt.training - \tSource:     Kiki ki kuatekesa benge - benge o jiphange a sola mimbu phala o madiskursu .\n",
            "2021-10-08 19:08:12,672 - INFO - joeynmt.training - \tReference:  This can be helpful , for example , when a brother needs to choose a song for a public talk .\n",
            "2021-10-08 19:08:12,672 - INFO - joeynmt.training - \tHypothesis: This helps us to make a Christian congregation to find the Bible .\n",
            "2021-10-08 19:08:12,672 - INFO - joeynmt.training - Example #2\n",
            "2021-10-08 19:08:12,672 - INFO - joeynmt.training - \tSource:     Kuene ngó maubhezelu a iiadi — o ubhezelu ua kidi ni ubhezelu ua makutu .\n",
            "2021-10-08 19:08:12,672 - INFO - joeynmt.training - \tReference:  The Bible teaches that there are two types of religion — true religion and false religion .\n",
            "2021-10-08 19:08:12,672 - INFO - joeynmt.training - \tHypothesis: It is not a Christian — in the world — the Kingdom .\n",
            "2021-10-08 19:08:12,672 - INFO - joeynmt.training - Example #3\n",
            "2021-10-08 19:08:12,673 - INFO - joeynmt.training - \tSource:     Eie ua buika o kidifuanganu kia Nzambi , o diiala . ” — TERTULIANO , O TRAGE DAS MULHERES , KU HAMA IA KAIIADI , K . K .\n",
            "2021-10-08 19:08:12,673 - INFO - joeynmt.training - \tReference:  You destroyed so easily God ’ s image , man . ” — TERTULLIAN , ON THE APPAREL OF WOMEN , SECOND CENTURY C.E.\n",
            "2021-10-08 19:08:12,673 - INFO - joeynmt.training - \tHypothesis: You will be a man who is the earth . ” — PEW .\n",
            "2021-10-08 19:08:12,673 - INFO - joeynmt.training - Validation result (greedy) at epoch   3, step     4000: bleu:  13.22, loss: 76425.1250, ppl:  20.3825, duration: 34.8733s\n",
            "2021-10-08 19:08:47,657 - INFO - joeynmt.training - Epoch   3, Step:     4100, Batch Loss:     3.369393, Tokens per Sec:     4036, Lr: 0.000300\n",
            "2021-10-08 19:09:22,608 - INFO - joeynmt.training - Epoch   3, Step:     4200, Batch Loss:     3.189133, Tokens per Sec:     4064, Lr: 0.000300\n",
            "2021-10-08 19:09:57,029 - INFO - joeynmt.training - Epoch   3, Step:     4300, Batch Loss:     3.178730, Tokens per Sec:     4018, Lr: 0.000300\n",
            "2021-10-08 19:10:31,609 - INFO - joeynmt.training - Epoch   3, Step:     4400, Batch Loss:     3.033997, Tokens per Sec:     4170, Lr: 0.000300\n",
            "2021-10-08 19:11:06,106 - INFO - joeynmt.training - Epoch   3, Step:     4500, Batch Loss:     2.852898, Tokens per Sec:     4030, Lr: 0.000300\n",
            "2021-10-08 19:11:40,881 - INFO - joeynmt.training - Epoch   3, Step:     4600, Batch Loss:     3.041185, Tokens per Sec:     4006, Lr: 0.000300\n",
            "2021-10-08 19:12:15,722 - INFO - joeynmt.training - Epoch   3, Step:     4700, Batch Loss:     3.259634, Tokens per Sec:     4107, Lr: 0.000300\n",
            "2021-10-08 19:12:50,472 - INFO - joeynmt.training - Epoch   3, Step:     4800, Batch Loss:     3.115438, Tokens per Sec:     4015, Lr: 0.000300\n",
            "2021-10-08 19:13:09,184 - INFO - joeynmt.training - Epoch   3: total training loss 5139.23\n",
            "2021-10-08 19:13:09,184 - INFO - joeynmt.training - EPOCH 4\n",
            "2021-10-08 19:13:25,597 - INFO - joeynmt.training - Epoch   4, Step:     4900, Batch Loss:     2.956371, Tokens per Sec:     3849, Lr: 0.000300\n",
            "2021-10-08 19:14:00,492 - INFO - joeynmt.training - Epoch   4, Step:     5000, Batch Loss:     2.900004, Tokens per Sec:     4048, Lr: 0.000300\n",
            "2021-10-08 19:14:41,794 - WARNING - sacrebleu - That's 100 lines that end in a tokenized period ('.')\n",
            "2021-10-08 19:14:41,794 - WARNING - sacrebleu - It looks like you forgot to detokenize your test data, which may hurt your score.\n",
            "2021-10-08 19:14:41,794 - WARNING - sacrebleu - If you insist your data is detokenized, or don't care, you can suppress this message with the `force` parameter.\n",
            "2021-10-08 19:14:41,800 - INFO - joeynmt.training - Hooray! New best validation result [ppl]!\n",
            "2021-10-08 19:14:42,273 - INFO - joeynmt.helpers - delete models/kmben_reverse_transformer/2000.ckpt\n",
            "2021-10-08 19:14:42,296 - INFO - joeynmt.training - Example #0\n",
            "2021-10-08 19:14:42,296 - INFO - joeynmt.training - \tSource:     Muhatu’ami Nora ni eme , tu sakidila kiavulu Jihova mu ioso ia tu bhana , etu tuene mu suinisa ue akuetu phala ku lola Jihova . — Malakiia 3 : 10 .\n",
            "2021-10-08 19:14:42,296 - INFO - joeynmt.training - \tReference:  Nora and I are very grateful to Jehovah for all his kind provisions , and we encourage others also to test Jehovah out. — Malachi 3 : 10 .\n",
            "2021-10-08 19:14:42,296 - INFO - joeynmt.training - \tHypothesis: My wife and wife and sisters and I have been grateful that Jehovah has given us us to help us to serve him as we can serve Jehovah . — Ja. 3 : 10 .\n",
            "2021-10-08 19:14:42,297 - INFO - joeynmt.training - Example #1\n",
            "2021-10-08 19:14:42,297 - INFO - joeynmt.training - \tSource:     Kiki ki kuatekesa benge - benge o jiphange a sola mimbu phala o madiskursu .\n",
            "2021-10-08 19:14:42,297 - INFO - joeynmt.training - \tReference:  This can be helpful , for example , when a brother needs to choose a song for a public talk .\n",
            "2021-10-08 19:14:42,297 - INFO - joeynmt.training - \tHypothesis: This helped us to make a brother to make a good decision .\n",
            "2021-10-08 19:14:42,297 - INFO - joeynmt.training - Example #2\n",
            "2021-10-08 19:14:42,298 - INFO - joeynmt.training - \tSource:     Kuene ngó maubhezelu a iiadi — o ubhezelu ua kidi ni ubhezelu ua makutu .\n",
            "2021-10-08 19:14:42,298 - INFO - joeynmt.training - \tReference:  The Bible teaches that there are two types of religion — true religion and false religion .\n",
            "2021-10-08 19:14:42,298 - INFO - joeynmt.training - \tHypothesis: It is not only a special relationship with the worship of the worship of the worship of God .\n",
            "2021-10-08 19:14:42,298 - INFO - joeynmt.training - Example #3\n",
            "2021-10-08 19:14:42,298 - INFO - joeynmt.training - \tSource:     Eie ua buika o kidifuanganu kia Nzambi , o diiala . ” — TERTULIANO , O TRAGE DAS MULHERES , KU HAMA IA KAIIADI , K . K .\n",
            "2021-10-08 19:14:42,298 - INFO - joeynmt.training - \tReference:  You destroyed so easily God ’ s image , man . ” — TERTULLIAN , ON THE APPAREL OF WOMEN , SECOND CENTURY C.E.\n",
            "2021-10-08 19:14:42,298 - INFO - joeynmt.training - \tHypothesis: You will be destroyed in God ’ s name . ” — PEPEPEPEPEPEPEN , AT , AAAT .\n",
            "2021-10-08 19:14:42,299 - INFO - joeynmt.training - Validation result (greedy) at epoch   4, step     5000: bleu:  14.41, loss: 72024.0938, ppl:  17.1342, duration: 41.8059s\n",
            "2021-10-08 19:15:17,355 - INFO - joeynmt.training - Epoch   4, Step:     5100, Batch Loss:     3.237380, Tokens per Sec:     4034, Lr: 0.000300\n",
            "2021-10-08 19:15:51,816 - INFO - joeynmt.training - Epoch   4, Step:     5200, Batch Loss:     3.011272, Tokens per Sec:     4020, Lr: 0.000300\n",
            "2021-10-08 19:16:26,475 - INFO - joeynmt.training - Epoch   4, Step:     5300, Batch Loss:     2.805922, Tokens per Sec:     3942, Lr: 0.000300\n",
            "2021-10-08 19:17:01,385 - INFO - joeynmt.training - Epoch   4, Step:     5400, Batch Loss:     3.058213, Tokens per Sec:     4103, Lr: 0.000300\n",
            "2021-10-08 19:17:36,126 - INFO - joeynmt.training - Epoch   4, Step:     5500, Batch Loss:     3.028903, Tokens per Sec:     4069, Lr: 0.000300\n",
            "2021-10-08 19:18:10,668 - INFO - joeynmt.training - Epoch   4, Step:     5600, Batch Loss:     3.121304, Tokens per Sec:     4119, Lr: 0.000300\n",
            "2021-10-08 19:18:45,518 - INFO - joeynmt.training - Epoch   4, Step:     5700, Batch Loss:     3.046429, Tokens per Sec:     3967, Lr: 0.000300\n",
            "2021-10-08 19:19:20,120 - INFO - joeynmt.training - Epoch   4, Step:     5800, Batch Loss:     3.048192, Tokens per Sec:     4042, Lr: 0.000300\n",
            "2021-10-08 19:19:54,863 - INFO - joeynmt.training - Epoch   4, Step:     5900, Batch Loss:     2.854387, Tokens per Sec:     4012, Lr: 0.000300\n",
            "2021-10-08 19:20:29,730 - INFO - joeynmt.training - Epoch   4, Step:     6000, Batch Loss:     2.892841, Tokens per Sec:     4006, Lr: 0.000300\n",
            "2021-10-08 19:21:29,747 - WARNING - sacrebleu - That's 100 lines that end in a tokenized period ('.')\n",
            "2021-10-08 19:21:29,747 - WARNING - sacrebleu - It looks like you forgot to detokenize your test data, which may hurt your score.\n",
            "2021-10-08 19:21:29,747 - WARNING - sacrebleu - If you insist your data is detokenized, or don't care, you can suppress this message with the `force` parameter.\n",
            "2021-10-08 19:21:29,755 - INFO - joeynmt.training - Hooray! New best validation result [ppl]!\n",
            "2021-10-08 19:21:30,233 - INFO - joeynmt.helpers - delete models/kmben_reverse_transformer/3000.ckpt\n",
            "2021-10-08 19:21:30,254 - INFO - joeynmt.training - Example #0\n",
            "2021-10-08 19:21:30,254 - INFO - joeynmt.training - \tSource:     Muhatu’ami Nora ni eme , tu sakidila kiavulu Jihova mu ioso ia tu bhana , etu tuene mu suinisa ue akuetu phala ku lola Jihova . — Malakiia 3 : 10 .\n",
            "2021-10-08 19:21:30,254 - INFO - joeynmt.training - \tReference:  Nora and I are very grateful to Jehovah for all his kind provisions , and we encourage others also to test Jehovah out. — Malachi 3 : 10 .\n",
            "2021-10-08 19:21:30,254 - INFO - joeynmt.training - \tHypothesis: My husband and sisters and I have a thankful way to Jehovah , and we can encourage others to serve Jehovah . — Jaah 3 : 10 .\n",
            "2021-10-08 19:21:30,254 - INFO - joeynmt.training - Example #1\n",
            "2021-10-08 19:21:30,255 - INFO - joeynmt.training - \tSource:     Kiki ki kuatekesa benge - benge o jiphange a sola mimbu phala o madiskursu .\n",
            "2021-10-08 19:21:30,255 - INFO - joeynmt.training - \tReference:  This can be helpful , for example , when a brother needs to choose a song for a public talk .\n",
            "2021-10-08 19:21:30,255 - INFO - joeynmt.training - \tHypothesis: This helps us to make a good example for the brothers to help them to speak .\n",
            "2021-10-08 19:21:30,255 - INFO - joeynmt.training - Example #2\n",
            "2021-10-08 19:21:30,255 - INFO - joeynmt.training - \tSource:     Kuene ngó maubhezelu a iiadi — o ubhezelu ua kidi ni ubhezelu ua makutu .\n",
            "2021-10-08 19:21:30,255 - INFO - joeynmt.training - \tReference:  The Bible teaches that there are two types of religion — true religion and false religion .\n",
            "2021-10-08 19:21:30,255 - INFO - joeynmt.training - \tHypothesis: It is not only true worship — and family worship .\n",
            "2021-10-08 19:21:30,255 - INFO - joeynmt.training - Example #3\n",
            "2021-10-08 19:21:30,256 - INFO - joeynmt.training - \tSource:     Eie ua buika o kidifuanganu kia Nzambi , o diiala . ” — TERTULIANO , O TRAGE DAS MULHERES , KU HAMA IA KAIIADI , K . K .\n",
            "2021-10-08 19:21:30,256 - INFO - joeynmt.training - \tReference:  You destroyed so easily God ’ s image , man . ” — TERTULLIAN , ON THE APPAREL OF WOMEN , SECOND CENTURY C.E.\n",
            "2021-10-08 19:21:30,256 - INFO - joeynmt.training - \tHypothesis: You will be destroyed in God ’ s eyes . ” — PEVERS THETHETHES , THE WAT THETHET .\n",
            "2021-10-08 19:21:30,256 - INFO - joeynmt.training - Validation result (greedy) at epoch   4, step     6000: bleu:  15.80, loss: 69194.0859, ppl:  15.3243, duration: 60.5254s\n",
            "2021-10-08 19:22:05,215 - INFO - joeynmt.training - Epoch   4, Step:     6100, Batch Loss:     3.020456, Tokens per Sec:     3971, Lr: 0.000300\n",
            "2021-10-08 19:22:39,595 - INFO - joeynmt.training - Epoch   4, Step:     6200, Batch Loss:     2.814055, Tokens per Sec:     4135, Lr: 0.000300\n",
            "2021-10-08 19:23:14,659 - INFO - joeynmt.training - Epoch   4, Step:     6300, Batch Loss:     3.137597, Tokens per Sec:     3960, Lr: 0.000300\n",
            "2021-10-08 19:23:49,586 - INFO - joeynmt.training - Epoch   4, Step:     6400, Batch Loss:     2.756343, Tokens per Sec:     4123, Lr: 0.000300\n",
            "2021-10-08 19:24:15,660 - INFO - joeynmt.training - Epoch   4: total training loss 4773.07\n",
            "2021-10-08 19:24:15,660 - INFO - joeynmt.training - EPOCH 5\n",
            "2021-10-08 19:24:24,476 - INFO - joeynmt.training - Epoch   5, Step:     6500, Batch Loss:     3.001143, Tokens per Sec:     3989, Lr: 0.000300\n",
            "2021-10-08 19:24:59,320 - INFO - joeynmt.training - Epoch   5, Step:     6600, Batch Loss:     2.928720, Tokens per Sec:     4057, Lr: 0.000300\n",
            "2021-10-08 19:25:33,768 - INFO - joeynmt.training - Epoch   5, Step:     6700, Batch Loss:     2.950137, Tokens per Sec:     4107, Lr: 0.000300\n",
            "2021-10-08 19:26:08,325 - INFO - joeynmt.training - Epoch   5, Step:     6800, Batch Loss:     2.853667, Tokens per Sec:     4016, Lr: 0.000300\n",
            "2021-10-08 19:26:43,047 - INFO - joeynmt.training - Epoch   5, Step:     6900, Batch Loss:     2.913334, Tokens per Sec:     3997, Lr: 0.000300\n",
            "2021-10-08 19:27:17,940 - INFO - joeynmt.training - Epoch   5, Step:     7000, Batch Loss:     2.877257, Tokens per Sec:     3974, Lr: 0.000300\n",
            "2021-10-08 19:28:00,305 - WARNING - sacrebleu - That's 100 lines that end in a tokenized period ('.')\n",
            "2021-10-08 19:28:00,305 - WARNING - sacrebleu - It looks like you forgot to detokenize your test data, which may hurt your score.\n",
            "2021-10-08 19:28:00,306 - WARNING - sacrebleu - If you insist your data is detokenized, or don't care, you can suppress this message with the `force` parameter.\n",
            "2021-10-08 19:28:00,313 - INFO - joeynmt.training - Hooray! New best validation result [ppl]!\n",
            "2021-10-08 19:28:00,782 - INFO - joeynmt.helpers - delete models/kmben_reverse_transformer/4000.ckpt\n",
            "2021-10-08 19:28:00,802 - INFO - joeynmt.training - Example #0\n",
            "2021-10-08 19:28:00,802 - INFO - joeynmt.training - \tSource:     Muhatu’ami Nora ni eme , tu sakidila kiavulu Jihova mu ioso ia tu bhana , etu tuene mu suinisa ue akuetu phala ku lola Jihova . — Malakiia 3 : 10 .\n",
            "2021-10-08 19:28:00,803 - INFO - joeynmt.training - \tReference:  Nora and I are very grateful to Jehovah for all his kind provisions , and we encourage others also to test Jehovah out. — Malachi 3 : 10 .\n",
            "2021-10-08 19:28:00,803 - INFO - joeynmt.training - \tHypothesis: My wife and sisters are grateful for Jehovah and to help us to remain loyal to others to him him. — Malalalhi 3 : 10 .\n",
            "2021-10-08 19:28:00,803 - INFO - joeynmt.training - Example #1\n",
            "2021-10-08 19:28:00,803 - INFO - joeynmt.training - \tSource:     Kiki ki kuatekesa benge - benge o jiphange a sola mimbu phala o madiskursu .\n",
            "2021-10-08 19:28:00,803 - INFO - joeynmt.training - \tReference:  This can be helpful , for example , when a brother needs to choose a song for a public talk .\n",
            "2021-10-08 19:28:00,803 - INFO - joeynmt.training - \tHypothesis: This helps us to make the brothers to make the talk to the language .\n",
            "2021-10-08 19:28:00,804 - INFO - joeynmt.training - Example #2\n",
            "2021-10-08 19:28:00,804 - INFO - joeynmt.training - \tSource:     Kuene ngó maubhezelu a iiadi — o ubhezelu ua kidi ni ubhezelu ua makutu .\n",
            "2021-10-08 19:28:00,804 - INFO - joeynmt.training - \tReference:  The Bible teaches that there are two types of religion — true religion and false religion .\n",
            "2021-10-08 19:28:00,804 - INFO - joeynmt.training - \tHypothesis: It is not only true worship — the truth and worship of worship .\n",
            "2021-10-08 19:28:00,804 - INFO - joeynmt.training - Example #3\n",
            "2021-10-08 19:28:00,805 - INFO - joeynmt.training - \tSource:     Eie ua buika o kidifuanganu kia Nzambi , o diiala . ” — TERTULIANO , O TRAGE DAS MULHERES , KU HAMA IA KAIIADI , K . K .\n",
            "2021-10-08 19:28:00,805 - INFO - joeynmt.training - \tReference:  You destroyed so easily God ’ s image , man . ” — TERTULLIAN , ON THE APPAREL OF WOMEN , SECOND CENTURY C.E.\n",
            "2021-10-08 19:28:00,805 - INFO - joeynmt.training - \tHypothesis: You will be the psalmist of God . ” — PEEW , PEEW , PEEW , WORT .\n",
            "2021-10-08 19:28:00,805 - INFO - joeynmt.training - Validation result (greedy) at epoch   5, step     7000: bleu:  17.88, loss: 66875.7188, ppl:  13.9851, duration: 42.8646s\n",
            "2021-10-08 19:28:35,919 - INFO - joeynmt.training - Epoch   5, Step:     7100, Batch Loss:     2.813405, Tokens per Sec:     4089, Lr: 0.000300\n",
            "2021-10-08 19:29:10,646 - INFO - joeynmt.training - Epoch   5, Step:     7200, Batch Loss:     2.767130, Tokens per Sec:     4098, Lr: 0.000300\n",
            "2021-10-08 19:29:45,290 - INFO - joeynmt.training - Epoch   5, Step:     7300, Batch Loss:     2.773810, Tokens per Sec:     4083, Lr: 0.000300\n",
            "2021-10-08 19:30:20,008 - INFO - joeynmt.training - Epoch   5, Step:     7400, Batch Loss:     3.004571, Tokens per Sec:     4009, Lr: 0.000300\n",
            "2021-10-08 19:30:55,262 - INFO - joeynmt.training - Epoch   5, Step:     7500, Batch Loss:     2.653790, Tokens per Sec:     4015, Lr: 0.000300\n",
            "2021-10-08 19:31:29,285 - INFO - joeynmt.training - Epoch   5, Step:     7600, Batch Loss:     2.607853, Tokens per Sec:     4024, Lr: 0.000300\n",
            "2021-10-08 19:32:03,963 - INFO - joeynmt.training - Epoch   5, Step:     7700, Batch Loss:     2.745440, Tokens per Sec:     4027, Lr: 0.000300\n",
            "2021-10-08 19:32:38,548 - INFO - joeynmt.training - Epoch   5, Step:     7800, Batch Loss:     2.683073, Tokens per Sec:     4002, Lr: 0.000300\n",
            "2021-10-08 19:33:13,311 - INFO - joeynmt.training - Epoch   5, Step:     7900, Batch Loss:     2.657781, Tokens per Sec:     4007, Lr: 0.000300\n",
            "2021-10-08 19:33:47,895 - INFO - joeynmt.training - Epoch   5, Step:     8000, Batch Loss:     2.734337, Tokens per Sec:     4105, Lr: 0.000300\n",
            "2021-10-08 19:34:33,365 - WARNING - sacrebleu - That's 100 lines that end in a tokenized period ('.')\n",
            "2021-10-08 19:34:33,366 - WARNING - sacrebleu - It looks like you forgot to detokenize your test data, which may hurt your score.\n",
            "2021-10-08 19:34:33,366 - WARNING - sacrebleu - If you insist your data is detokenized, or don't care, you can suppress this message with the `force` parameter.\n",
            "2021-10-08 19:34:33,373 - INFO - joeynmt.training - Hooray! New best validation result [ppl]!\n",
            "2021-10-08 19:34:33,830 - INFO - joeynmt.helpers - delete models/kmben_reverse_transformer/5000.ckpt\n",
            "2021-10-08 19:34:33,851 - INFO - joeynmt.training - Example #0\n",
            "2021-10-08 19:34:33,851 - INFO - joeynmt.training - \tSource:     Muhatu’ami Nora ni eme , tu sakidila kiavulu Jihova mu ioso ia tu bhana , etu tuene mu suinisa ue akuetu phala ku lola Jihova . — Malakiia 3 : 10 .\n",
            "2021-10-08 19:34:33,851 - INFO - joeynmt.training - \tReference:  Nora and I are very grateful to Jehovah for all his kind provisions , and we encourage others also to test Jehovah out. — Malachi 3 : 10 .\n",
            "2021-10-08 19:34:33,851 - INFO - joeynmt.training - \tHypothesis: My wife and my wife and I am grateful to Jehovah and help us to keep our brothers and sisters to help others to be Jehovah . — Maniah 3 : 10 .\n",
            "2021-10-08 19:34:33,852 - INFO - joeynmt.training - Example #1\n",
            "2021-10-08 19:34:33,852 - INFO - joeynmt.training - \tSource:     Kiki ki kuatekesa benge - benge o jiphange a sola mimbu phala o madiskursu .\n",
            "2021-10-08 19:34:33,852 - INFO - joeynmt.training - \tReference:  This can be helpful , for example , when a brother needs to choose a song for a public talk .\n",
            "2021-10-08 19:34:33,852 - INFO - joeynmt.training - \tHypothesis: This helps us to make the brothers to make a talk .\n",
            "2021-10-08 19:34:33,852 - INFO - joeynmt.training - Example #2\n",
            "2021-10-08 19:34:33,853 - INFO - joeynmt.training - \tSource:     Kuene ngó maubhezelu a iiadi — o ubhezelu ua kidi ni ubhezelu ua makutu .\n",
            "2021-10-08 19:34:33,853 - INFO - joeynmt.training - \tReference:  The Bible teaches that there are two types of religion — true religion and false religion .\n",
            "2021-10-08 19:34:33,853 - INFO - joeynmt.training - \tHypothesis: They are not not true worship — the true worship of God and religion .\n",
            "2021-10-08 19:34:33,853 - INFO - joeynmt.training - Example #3\n",
            "2021-10-08 19:34:33,853 - INFO - joeynmt.training - \tSource:     Eie ua buika o kidifuanganu kia Nzambi , o diiala . ” — TERTULIANO , O TRAGE DAS MULHERES , KU HAMA IA KAIIADI , K . K .\n",
            "2021-10-08 19:34:33,853 - INFO - joeynmt.training - \tReference:  You destroyed so easily God ’ s image , man . ” — TERTULLIAN , ON THE APPAREL OF WOMEN , SECOND CENTURY C.E.\n",
            "2021-10-08 19:34:33,853 - INFO - joeynmt.training - \tHypothesis: You will be destroyed in God ’ s sovereignty . ” — PEVEVER , BEBEBEBRESST , ABEBRESST , ABRESSST .\n",
            "2021-10-08 19:34:33,854 - INFO - joeynmt.training - Validation result (greedy) at epoch   5, step     8000: bleu:  18.41, loss: 64777.0117, ppl:  12.8739, duration: 45.9578s\n",
            "2021-10-08 19:35:07,287 - INFO - joeynmt.training - Epoch   5: total training loss 4527.29\n",
            "2021-10-08 19:35:07,287 - INFO - joeynmt.training - Training ended after   5 epochs.\n",
            "2021-10-08 19:35:07,288 - INFO - joeynmt.training - Best validation result (greedy) at step     8000:  12.87 ppl.\n",
            "2021-10-08 19:35:07,316 - INFO - joeynmt.prediction - Process device: cuda, n_gpu: 1, batch_size per device: 3600\n",
            "2021-10-08 19:35:07,317 - INFO - joeynmt.prediction - Loading model from models/kmben_reverse_transformer/8000.ckpt\n",
            "2021-10-08 19:35:07,530 - INFO - joeynmt.model - Building an encoder-decoder model...\n",
            "2021-10-08 19:35:07,789 - INFO - joeynmt.model - Enc-dec model built.\n",
            "2021-10-08 19:35:07,868 - INFO - joeynmt.prediction - Decoding on dev set (data/kmben/dev.bpe.en)...\n",
            "2021-10-08 19:36:36,222 - WARNING - sacrebleu - That's 100 lines that end in a tokenized period ('.')\n",
            "2021-10-08 19:36:36,222 - WARNING - sacrebleu - It looks like you forgot to detokenize your test data, which may hurt your score.\n",
            "2021-10-08 19:36:36,222 - WARNING - sacrebleu - If you insist your data is detokenized, or don't care, you can suppress this message with the `force` parameter.\n",
            "2021-10-08 19:36:36,228 - INFO - joeynmt.prediction -  dev bleu[13a]:  19.56 [Beam search decoding with beam size = 5 and alpha = 1.0]\n",
            "2021-10-08 19:36:36,229 - INFO - joeynmt.prediction - Translations saved to: models/kmben_reverse_transformer/00008000.hyps.dev\n",
            "2021-10-08 19:36:36,229 - INFO - joeynmt.prediction - Decoding on test set (data/kmben/test.bpe.en)...\n",
            "2021-10-08 19:39:32,708 - WARNING - sacrebleu - That's 100 lines that end in a tokenized period ('.')\n",
            "2021-10-08 19:39:32,709 - WARNING - sacrebleu - It looks like you forgot to detokenize your test data, which may hurt your score.\n",
            "2021-10-08 19:39:32,709 - WARNING - sacrebleu - If you insist your data is detokenized, or don't care, you can suppress this message with the `force` parameter.\n",
            "2021-10-08 19:39:32,722 - INFO - joeynmt.prediction - test bleu[13a]:  21.30 [Beam search decoding with beam size = 5 and alpha = 1.0]\n",
            "2021-10-08 19:39:32,724 - INFO - joeynmt.prediction - Translations saved to: models/kmben_reverse_transformer/00008000.hyps.test\n"
          ]
        }
      ]
    },
    {
      "cell_type": "code",
      "metadata": {
        "id": "MBoDS09JM807"
      },
      "source": [
        "# Copy the created models from the notebook storage to google drive for persistant storage \n",
        "!cp -r joeynmt/models/${tgt}${src}_reverse_transformer/* \"$gdrive_path/models/${src}${tgt}_reverse_transformer/\""
      ],
      "execution_count": 23,
      "outputs": []
    },
    {
      "cell_type": "code",
      "metadata": {
        "id": "n94wlrCjVc17",
        "colab": {
          "base_uri": "https://localhost:8080/"
        },
        "outputId": "a029b8f6-441c-46b9-ea10-4de8a84d66f8"
      },
      "source": [
        "# Output our validation accuracy\n",
        "! cat \"$gdrive_path/models/${src}${tgt}_reverse_transformer/validations.txt\""
      ],
      "execution_count": 26,
      "outputs": [
        {
          "output_type": "stream",
          "name": "stdout",
          "text": [
            "Steps: 1000\tLoss: 103556.87500\tPPL: 59.43735\tbleu: 2.55485\tLR: 0.00030000\t*\n",
            "Steps: 2000\tLoss: 90548.46875\tPPL: 35.58025\tbleu: 5.30379\tLR: 0.00030000\t*\n",
            "Steps: 3000\tLoss: 81694.85938\tPPL: 25.09202\tbleu: 10.50451\tLR: 0.00030000\t*\n",
            "Steps: 4000\tLoss: 76425.12500\tPPL: 20.38255\tbleu: 13.21832\tLR: 0.00030000\t*\n",
            "Steps: 5000\tLoss: 72024.09375\tPPL: 17.13417\tbleu: 14.41493\tLR: 0.00030000\t*\n",
            "Steps: 6000\tLoss: 69194.08594\tPPL: 15.32434\tbleu: 15.79685\tLR: 0.00030000\t*\n",
            "Steps: 7000\tLoss: 66875.71875\tPPL: 13.98508\tbleu: 17.88054\tLR: 0.00030000\t*\n",
            "Steps: 8000\tLoss: 64777.01172\tPPL: 12.87394\tbleu: 18.41495\tLR: 0.00030000\t*\n"
          ]
        }
      ]
    },
    {
      "cell_type": "code",
      "metadata": {
        "id": "66WhRE9lIhoD",
        "colab": {
          "base_uri": "https://localhost:8080/"
        },
        "outputId": "f3d95850-a79e-44e4-bc30-d92de9249783"
      },
      "source": [
        "# Test our model\n",
        "! cd joeynmt; python3 -m joeynmt test \"$gdrive_path/models/${src}${tgt}_reverse_transformer/config.yaml\""
      ],
      "execution_count": 27,
      "outputs": [
        {
          "output_type": "stream",
          "name": "stdout",
          "text": [
            "2021-10-08 19:44:19,985 - INFO - root - Hello! This is Joey-NMT (version 1.3).\n",
            "2021-10-08 19:44:19,985 - INFO - joeynmt.data - Building vocabulary...\n",
            "2021-10-08 19:44:20,294 - INFO - joeynmt.data - Loading dev data...\n",
            "2021-10-08 19:44:20,306 - INFO - joeynmt.data - Loading test data...\n",
            "2021-10-08 19:44:20,365 - INFO - joeynmt.data - Data loaded.\n",
            "2021-10-08 19:44:20,391 - INFO - joeynmt.prediction - Process device: cuda, n_gpu: 1, batch_size per device: 3600\n",
            "2021-10-08 19:44:20,391 - INFO - joeynmt.prediction - Loading model from models/kmben_reverse_transformer/8000.ckpt\n",
            "2021-10-08 19:44:23,014 - INFO - joeynmt.model - Building an encoder-decoder model...\n",
            "2021-10-08 19:44:23,282 - INFO - joeynmt.model - Enc-dec model built.\n",
            "2021-10-08 19:44:23,362 - INFO - joeynmt.prediction - Decoding on dev set (data/kmben/dev.bpe.en)...\n",
            "2021-10-08 19:45:51,467 - WARNING - sacrebleu - That's 100 lines that end in a tokenized period ('.')\n",
            "2021-10-08 19:45:51,467 - WARNING - sacrebleu - It looks like you forgot to detokenize your test data, which may hurt your score.\n",
            "2021-10-08 19:45:51,467 - WARNING - sacrebleu - If you insist your data is detokenized, or don't care, you can suppress this message with the `force` parameter.\n",
            "2021-10-08 19:45:51,472 - INFO - joeynmt.prediction -  dev bleu[13a]:  19.56 [Beam search decoding with beam size = 5 and alpha = 1.0]\n",
            "2021-10-08 19:45:51,472 - INFO - joeynmt.prediction - Decoding on test set (data/kmben/test.bpe.en)...\n",
            "2021-10-08 19:48:47,782 - WARNING - sacrebleu - That's 100 lines that end in a tokenized period ('.')\n",
            "2021-10-08 19:48:47,783 - WARNING - sacrebleu - It looks like you forgot to detokenize your test data, which may hurt your score.\n",
            "2021-10-08 19:48:47,783 - WARNING - sacrebleu - If you insist your data is detokenized, or don't care, you can suppress this message with the `force` parameter.\n",
            "2021-10-08 19:48:47,796 - INFO - joeynmt.prediction - test bleu[13a]:  21.30 [Beam search decoding with beam size = 5 and alpha = 1.0]\n"
          ]
        }
      ]
    },
    {
      "cell_type": "code",
      "metadata": {
        "id": "tb4uSq6cJ6h4"
      },
      "source": [
        ""
      ],
      "execution_count": 22,
      "outputs": []
    }
  ]
}